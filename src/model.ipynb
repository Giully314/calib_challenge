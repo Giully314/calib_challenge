{
 "cells": [
  {
   "cell_type": "code",
   "execution_count": 8,
   "id": "3aa6f057",
   "metadata": {},
   "outputs": [],
   "source": [
    "import torch\n",
    "from torch import nn\n",
    "from torchvision import transforms as T\n",
    "import utils as ut\n",
    "import datasets\n",
    "import os\n",
    "import math\n",
    "import collections "
   ]
  },
  {
   "cell_type": "code",
   "execution_count": 4,
   "id": "82714d14",
   "metadata": {},
   "outputs": [
    {
     "name": "stdout",
     "output_type": "stream",
     "text": [
      "cuda\n"
     ]
    }
   ],
   "source": [
    "dev = torch.device(\"cuda\") if torch.cuda.is_available() else torch.device(\"cpu\")\n",
    "print(dev)"
   ]
  },
  {
   "cell_type": "code",
   "execution_count": 5,
   "id": "5104de15",
   "metadata": {},
   "outputs": [],
   "source": [
    "data_dir = \"data_h3_w3\"\n",
    "train_dir = os.path.join(data_dir, \"basic_train\")\n",
    "valid_dir = os.path.join(data_dir, \"valid\")\n",
    "test_dir = os.path.join(data_dir, \"test\")"
   ]
  },
  {
   "cell_type": "code",
   "execution_count": 11,
   "id": "aa1808c3",
   "metadata": {},
   "outputs": [],
   "source": [
    "BlockArgs = collections.namedtuple(\"BlockArgs\", [\n",
    "    \"kernel_size\", \"num_repeat\", \"in_channels\", \"out_channels\",\n",
    "    \"stride\", \"activation_fun\"\n",
    "])"
   ]
  },
  {
   "cell_type": "code",
   "execution_count": 12,
   "id": "9c1d8c12",
   "metadata": {},
   "outputs": [],
   "source": [
    "def conv1x1(in_channels: int, out_channels: int, stride: int = 1) -> nn.Conv2d:\n",
    "    return nn.Conv2d(in_channels, out_channels, 1, stride=stride)\n",
    "\n",
    "def conv(in_channels: int, out_channels: int, kernel_size: int, stride: int = 1) -> nn.Conv2d:\n",
    "    return nn.Conv2d(in_channels, out_channels, kernel_size, stride=stride, padding=1)\n",
    "\n",
    "\n",
    "\n",
    "#self, in_channels, out_channels, stride=1, activation_fun = nn.ReLU\n",
    "\n",
    "class ConvBlock(nn.Module):\n",
    "    def __init__(self, block_args: BlockArgs):\n",
    "        super(ConvBlock, self).__init__()\n",
    "        self.cnn1 = conv(block_args.in_channels, block_args.out_channels, block_args.kernel_size, \n",
    "                         block_args.stride)\n",
    "        self.bn1 = nn.BatchNorm2d(block_args.out_channels)\n",
    "        self.activation_fun = block_args.activation_fun()\n",
    "        self.cnn2 = conv(block_args.out_channels, block_args.out_channels, block_args.kernel_size)\n",
    "        self.bn2 = nn.BatchNorm2d(block_args.out_channels)\n",
    "        \n",
    "        self.skip = nn.Sequential(\n",
    "            conv1x1(block_args.in_channels, block_args.out_channels, block_args.stride), \n",
    "            nn.BatchNorm2d(block_args.out_channels)\n",
    "        )\n",
    "        \n",
    "        \n",
    "    def forward(self, x: torch.Tensor) -> torch.Tensor:\n",
    "        identity = self.skip(x)\n",
    "        \n",
    "        out = self.cnn1(x)\n",
    "        out = self.bn1(out)\n",
    "        out = self.activation_fun(out)\n",
    "        \n",
    "        out = self.cnn2(out)\n",
    "        out = self.bn2(out)\n",
    "        \n",
    "        out += identity\n",
    "        out = self.activation_fun(out)\n",
    "        \n",
    "        return out\n",
    "\n",
    "    \n",
    "\n",
    "class Endurance(nn.Module):\n",
    "    def __init__(self, blocks_args: list[BlockArgs]):\n",
    "        super(Endurance, self).__init__()\n",
    "        self.block_args = block_args\n",
    "        \n",
    "        \n",
    "    def build(self):\n",
    "        pass\n",
    "        "
   ]
  }
 ],
 "metadata": {
  "kernelspec": {
   "display_name": "Python 3",
   "language": "python",
   "name": "python3"
  },
  "language_info": {
   "codemirror_mode": {
    "name": "ipython",
    "version": 3
   },
   "file_extension": ".py",
   "mimetype": "text/x-python",
   "name": "python",
   "nbconvert_exporter": "python",
   "pygments_lexer": "ipython3",
   "version": "3.9.5"
  }
 },
 "nbformat": 4,
 "nbformat_minor": 5
}
