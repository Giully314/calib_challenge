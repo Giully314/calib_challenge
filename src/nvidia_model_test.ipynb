{
 "cells": [
  {
   "cell_type": "code",
   "execution_count": null,
   "source": [
    "from models import NvidiaModel, RMSELoss\r\n",
    "from torch.utils.data import Dataset, DataLoader\r\n",
    "import utils as ut\r\n",
    "import torch\r\n",
    "import train_nvidia_model as tnm\r\n",
    "import os \r\n",
    "import numpy as np\r\n",
    "import random "
   ],
   "outputs": [],
   "metadata": {}
  },
  {
   "cell_type": "code",
   "execution_count": null,
   "source": [
    "seed = 1729 \r\n",
    "random.seed(seed)\r\n",
    "torch.manual_seed(seed)\r\n",
    "np.random.seed(seed)"
   ],
   "outputs": [],
   "metadata": {}
  },
  {
   "cell_type": "code",
   "execution_count": null,
   "source": [
    "dev = torch.device(\"cuda\") if torch.cuda.is_available() else torch.device(\"cpu\")"
   ],
   "outputs": [],
   "metadata": {}
  },
  {
   "cell_type": "code",
   "execution_count": null,
   "source": [
    "class FrameDataset(Dataset):\r\n",
    "    def __init__(self, frames_dir, angles_file, start_idx, end_idx):\r\n",
    "        self.frames = ut.load_frames(frames_dir, start_idx, end_idx)\r\n",
    "        self.angles = torch.tensor(ut.read_angles(angles_file)[start_idx:end_idx])\r\n",
    "\r\n",
    "    def __getitem__(self, idx):\r\n",
    "        return (self.frames[idx], self.angles[idx])\r\n",
    "\r\n",
    "    def __len__(self):\r\n",
    "        return len(self.angles)"
   ],
   "outputs": [],
   "metadata": {}
  },
  {
   "cell_type": "code",
   "execution_count": null,
   "source": [
    "data_dir = \"data_h3_w3\"\r\n",
    "videos = [0, 1, 2, 3, 4]\r\n",
    "train_dir = os.path.join(data_dir, \"train\")\r\n",
    "train_dirs = [os.path.join(train_dir, str(video)) for video in videos]\r\n",
    "angles_files = [os.path.join(td, \"angles.txt\") for td in train_dirs]"
   ],
   "outputs": [],
   "metadata": {}
  },
  {
   "cell_type": "code",
   "execution_count": null,
   "source": [
    "train_datasets = [FrameDataset(frame_dir, angles_file, 0, 2) for frame_dir, angles_file in zip(train_dirs, angles_files)]"
   ],
   "outputs": [],
   "metadata": {}
  },
  {
   "cell_type": "code",
   "execution_count": null,
   "source": [
    "batch_size = 2\r\n",
    "def seed_worker(worker_id):\r\n",
    "    # worker_seed = torch.initial_seed() % 2**32\r\n",
    "    worker_seed = seed\r\n",
    "    np.random.seed(worker_seed)\r\n",
    "    random.seed(worker_seed)\r\n",
    "\r\n",
    "g = torch.Generator()\r\n",
    "g.manual_seed(seed)\r\n",
    "\r\n",
    "train_dataloader = [DataLoader(train_ds, batch_size, worker_init_fn=seed_worker, generator=g) for train_ds in train_datasets]"
   ],
   "outputs": [],
   "metadata": {}
  },
  {
   "cell_type": "code",
   "execution_count": null,
   "source": [
    "model = NvidiaModel()\r\n",
    "opt = torch.optim.AdamW(model.parameters(), lr=3e-04)\r\n",
    "loss = RMSELoss()\r\n",
    "history = tnm.History(\"test_1\", videos, model, opt, loss, None, batch_size)\r\n",
    "epochs = 15\r\n",
    "tnm.fit(epochs, history, train_dataloader, None, dev, verbose=True)\r\n",
    "history.save_training_info()"
   ],
   "outputs": [],
   "metadata": {}
  },
  {
   "cell_type": "code",
   "execution_count": null,
   "source": [
    "history.test_model()"
   ],
   "outputs": [],
   "metadata": {}
  }
 ],
 "metadata": {
  "orig_nbformat": 4,
  "language_info": {
   "name": "python"
  }
 },
 "nbformat": 4,
 "nbformat_minor": 2
}