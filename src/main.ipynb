{
 "cells": [
  {
   "cell_type": "code",
   "execution_count": 1,
   "id": "3aa6f057",
   "metadata": {},
   "outputs": [],
   "source": [
    "import torch\n",
    "from torch import nn\n",
    "from torchvision import transforms as T\n",
    "import utils as ut\n",
    "import datasets\n",
    "import os\n",
    "import math\n",
    "import collections "
   ]
  },
  {
   "cell_type": "code",
   "execution_count": 2,
   "id": "82714d14",
   "metadata": {},
   "outputs": [
    {
     "name": "stdout",
     "output_type": "stream",
     "text": [
      "cuda\n"
     ]
    }
   ],
   "source": [
    "dev = #torch.device(\"cuda\") if torch.cuda.is_available() else torch.device(\"cpu\")\n",
    "print(dev)"
   ]
  },
  {
   "cell_type": "code",
   "execution_count": 3,
   "id": "5104de15",
   "metadata": {},
   "outputs": [],
   "source": [
    "data_dir = \"data_h3_w3\"\n",
    "train_dir = os.path.join(data_dir, \"basic_train\")\n",
    "valid_dir = os.path.join(data_dir, \"valid\")\n",
    "test_dir = os.path.join(data_dir, \"test\")"
   ]
  },
  {
   "cell_type": "code",
   "execution_count": 4,
   "id": "d2d4cd0e",
   "metadata": {},
   "outputs": [],
   "source": [
    "video0 = os.path.join(train_dir, \"0\")"
   ]
  },
  {
   "cell_type": "code",
   "execution_count": 5,
   "id": "33a11d49",
   "metadata": {},
   "outputs": [],
   "source": [
    "#ds = datasets.get_frame_ds(video0)"
   ]
  },
  {
   "cell_type": "code",
   "execution_count": 6,
   "id": "87bf7a97",
   "metadata": {},
   "outputs": [],
   "source": [
    "glob_params = ut.GlobalParams(1, 1, (291, 388), \n",
    "                           3, 32, 5, 2,\n",
    "                          nn.AvgPool2d(7),\n",
    "                          2, 128, 0.2,\n",
    "                          0.3,\n",
    "                          (64, 16, 2))"
   ]
  },
  {
   "cell_type": "code",
   "execution_count": 7,
   "id": "cfb434a9",
   "metadata": {},
   "outputs": [],
   "source": [
    "ba1 = ut.BlockArgs(2, 32, 64, 3, 1)\n",
    "ba2 = ut.BlockArgs(2, 64, 128, 3, 2)\n",
    "\n",
    "blocks_args = [ba1, ba2]"
   ]
  },
  {
   "cell_type": "code",
   "execution_count": 8,
   "id": "42a22cc8",
   "metadata": {},
   "outputs": [],
   "source": [
    "import model"
   ]
  },
  {
   "cell_type": "code",
   "execution_count": null,
   "id": "18a80989",
   "metadata": {},
   "outputs": [],
   "source": [
    "m = model.Endurance(blocks_args, glob_params)"
   ]
  }
 ],
 "metadata": {
  "kernelspec": {
   "display_name": "Python 3",
   "language": "python",
   "name": "python3"
  },
  "language_info": {
   "codemirror_mode": {
    "name": "ipython",
    "version": 3
   },
   "file_extension": ".py",
   "mimetype": "text/x-python",
   "name": "python",
   "nbconvert_exporter": "python",
   "pygments_lexer": "ipython3",
   "version": "3.9.5"
  }
 },
 "nbformat": 4,
 "nbformat_minor": 5
}
