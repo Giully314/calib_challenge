{
 "cells": [
  {
   "cell_type": "code",
   "execution_count": 1,
   "metadata": {},
   "outputs": [],
   "source": [
    "import torch\n",
    "from torch import nn\n",
    "from torchvision import transforms as T\n",
    "import utils as ut\n",
    "import datasets\n",
    "import os\n",
    "import math\n",
    "import collections \n",
    "from model import Endurance\n",
    "\n",
    "# from ray import tune\n",
    "# from ray.tune import CLIReporter\n",
    "# from ray.tune.schedulers import ASHAScheduler\n",
    "# !pip install tensorboardX\n",
    "# !pip install ray[default]\n",
    "# !pip install ray"
   ]
  },
  {
   "cell_type": "code",
   "execution_count": 2,
   "metadata": {},
   "outputs": [
    {
     "name": "stdout",
     "output_type": "stream",
     "text": [
      "cpu\n"
     ]
    }
   ],
   "source": [
    "dev = torch.device(\"cuda\") if torch.cuda.is_available() else torch.device(\"cpu\")\n",
    "print(dev)"
   ]
  },
  {
   "cell_type": "code",
   "execution_count": 3,
   "metadata": {},
   "outputs": [],
   "source": [
    "height = 874\n",
    "width = 1164\n",
    "\n",
    "h_division = 4\n",
    "w_division = 4\n",
    "n_height = height // h_division\n",
    "n_width = width // w_division\n",
    "\n",
    "video_names = [0, 1, 2, 3, 4]\n",
    "data_dir = f\"data_h{h_division}_w{w_division}\"\n",
    "train_dir = os.path.join(data_dir, \"basic_train\")\n",
    "valid_dir = os.path.join(data_dir, \"valid\")\n",
<<<<<<< HEAD
    "test_dir = os.path.join(data_dir, \"test\")"
   ]
  },
  {
   "cell_type": "code",
   "execution_count": 4,
   "id": "d2d4cd0e",
   "metadata": {},
   "outputs": [],
   "source": [
    "video0 = os.path.join(train_dir, \"0\")"
   ]
  },
  {
   "cell_type": "code",
   "execution_count": 5,
   "id": "33a11d49",
   "metadata": {},
   "outputs": [],
   "source": [
    "#train_dss = [datasets.get_frame_ds(os.path.join(train_dir, str(i))) for i in range(5)train_dss = [datasets.get_frame_ds(os.path.join(train_dir, str(i))) for i in range(5)#]"
=======
    "test_dir = os.path.join(data_dir, \"test\")\n",
    "\n",
    "train_dirs = [os.path.join(train_dir, str(video_name)) for video_name in video_names]\n",
    "valid_dirs = [os.path.join(valid_dir, str(video_name)) for video_name in video_names]\n",
    "test_dirs = [os.path.join(test_dir, str(video_name)) for video_name in video_names]"
>>>>>>> fa2be812e399c69f280f18cc3307628703d4ae2e
   ]
  },
  {
   "cell_type": "code",
   "execution_count": 6,
   "metadata": {},
   "outputs": [],
   "source": [
<<<<<<< HEAD
    "glob_params = ut.GlobalParams(1, 1, (291, 388), \n",
    "                           (ut.conv_layer(3, 16, 5, 2, 2, 2), \n",
    "                           ut.conv_layer(16, 32, 5, 2, 2, 2),),\n",
    "                          nn.AvgPool2d(1),\n",
    "                          2, 128, 0.2,\n",
    "                          0.3,\n",
    "                          (64, 16, 2))"
   ]
  },
  {
   "cell_type": "code",
   "execution_count": 7,
   "id": "cfb434a9",
   "metadata": {},
   "outputs": [],
   "source": [
    "ba1 = ut.BlockArgs(2, 32, 64, 3, 1, nn.ReLU())\n",
    "ba2 = ut.BlockArgs(2, 64, 128, 3, 2, nn.ReLU())\n",
    "ba3 = ut.BlockArgs(2, 128, 256, 3, 2, nn.ReLU())\n",
    "ba4 = ut.BlockArgs(2, 256, 512, 3, 2, nn.ReLU())\n",
    "\n",
    "blocks_args = [ba1, ba2, ba3, ba4]"
=======
    "glob_params = ut.GlobalParams(1, 1, (n_height, n_width), \n",
    "                (ut.conv_layer(3, 32, 5, 2, 2, 2),),\n",
    "                nn.AdaptiveAvgPool2d((1, 1)),\n",
    "                2, 256, 0.2,\n",
    "                0.3,\n",
    "                (128, 64, 16, 2))\n",
    "\n",
    "\n",
    "ba1 = ut.BlockArgs(2, 32, 64, 3, 2, nn.ReLU())\n",
    "ba2 = ut.BlockArgs(2, 64, 128, 3, 2, nn.ReLU())\n",
    "ba3 = ut.BlockArgs(2, 128, 256, 3, 2, nn.ReLU())\n",
    "ba4 = ut.BlockArgs(2, 256, 512, 3, 2, nn.ReLU())\n",
    "ba5 = ut.BlockArgs(2, 512, 1024, 3, 2, nn.ReLU())\n",
    "\n",
    "blocks_args = [ba1, ba2, ba3, ba4, ba5]"
>>>>>>> fa2be812e399c69f280f18cc3307628703d4ae2e
   ]
  },
  {
   "cell_type": "code",
<<<<<<< HEAD
   "execution_count": 8,
   "id": "18a80989",
=======
   "execution_count": null,
>>>>>>> fa2be812e399c69f280f18cc3307628703d4ae2e
   "metadata": {},
   "outputs": [
    {
     "name": "stdout",
     "output_type": "stream",
     "text": [
      "out shape torch.Size([1, 1, 4608])\n",
      "cnn_shape_out: 4608\n"
     ]
    },
    {
     "name": "stderr",
     "output_type": "stream",
     "text": [
      "/home/giully/.local/lib/python3.9/site-packages/torch/nn/functional.py:718: UserWarning: Named tensors and all their associated APIs are an experimental feature and subject to change. Please do not use them for anything important until they are released as stable. (Triggered internally at  /pytorch/c10/core/TensorImpl.h:1156.)\n",
      "  return torch.max_pool2d(input, kernel_size, stride, padding, dilation, ceil_mode)\n"
     ]
    }
   ],
   "source": [
<<<<<<< HEAD
    "m = Endurance(blocks_args, glob_params)"
=======
    "model = Endurance(blocks_args, glob_params)\n",
    "model.to(dev)\n",
    "loss = ut.RMSELoss() #nn.MSELoss()\n",
    "opt = torch.optim.AdamW(model.parameters(), lr=3e-4)"
>>>>>>> fa2be812e399c69f280f18cc3307628703d4ae2e
   ]
  }
 ],
 "metadata": {
  "interpreter": {
   "hash": "fa3cbfbae4d6566a3d3a5b2d4aa82ef8305341f863d6251df7546c5c9c3534c2"
  },
  "kernelspec": {
   "display_name": "Python 3",
   "language": "python",
   "name": "python3"
  },
  "language_info": {
   "codemirror_mode": {
    "name": "ipython",
    "version": 3
   },
   "file_extension": ".py",
   "mimetype": "text/x-python",
   "name": "python",
   "nbconvert_exporter": "python",
   "pygments_lexer": "ipython3",
   "version": "3.8.5"
  }
 },
 "nbformat": 4,
 "nbformat_minor": 5
}
