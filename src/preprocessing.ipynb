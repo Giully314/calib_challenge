{
 "cells": [
  {
   "cell_type": "code",
   "execution_count": 1,
   "id": "56f0e853",
   "metadata": {},
   "outputs": [],
   "source": [
    "import torch\n",
    "from torchvision import transforms as T\n",
    "from torchvision.transforms import InterpolationMode\n",
    "import os\n",
    "import utils"
   ]
  },
  {
   "cell_type": "code",
   "execution_count": 2,
   "id": "9b2f270e",
   "metadata": {},
   "outputs": [
    {
     "name": "stdout",
     "output_type": "stream",
     "text": [
      "cuda\n"
     ]
    }
   ],
   "source": [
    "dev = torch.device(\"cuda\") if torch.cuda.is_available() else torch.device(\"cpu\")\n",
    "print(dev)"
   ]
  },
  {
   "cell_type": "code",
   "execution_count": 17,
   "id": "3be1727c",
   "metadata": {},
   "outputs": [],
   "source": [
    "height = 874\n",
    "width = 1164\n",
    "\n",
    "h_division = 3\n",
    "w_division = 3\n",
    "n_height = height // h_division\n",
    "n_width = width // w_division\n",
    "\n",
    "trf_resize = T.Resize((n_height, n_width), interpolation=InterpolationMode.BILINEAR)\n",
    "\n",
    "trf_crop_y = utils.CropHeight(170, n_height - 50)\n",
    "\n",
    "trf_normalize = T.Normalize(mean=[0.485, 0.456, 0.406], std=[0.229, 0.224, 0.225])\n",
    "\n",
    "trf_rotate = T.RandomRotation((-10, 10), interpolation=InterpolationMode.BILINEAR)\n",
    "\n",
    "trf_translate = T.RandomAffine(0, (0.2, 0.2), interpolation=InterpolationMode.BILINEAR)\n",
    "\n",
    "brightness = (3, 3)\n",
    "contrast = 0\n",
    "saturation = (1, 1)\n",
    "hue = 0\n",
    "trf_jitter = T.ColorJitter(brightness, contrast, saturation, hue)\n",
    "\n",
    "basic_transform = T.Compose([utils.BGRtoRGB(), T.ToTensor(), trf_resize])"
   ]
  },
  {
   "cell_type": "code",
   "execution_count": 18,
   "id": "b8e50b69",
   "metadata": {},
   "outputs": [],
   "source": [
    "video_names = [0, 1, 2, 3, 4]\n",
    "data_dir = f\"data_h{h_division}_w{w_division}\" #the number 5 5 indicates that height and width are divided by 5 and 5\n",
    "utils.create_dir(data_dir)\n",
    "video_dir = os.path.join(\"calib_challenge\", \"labeled\")\n",
    "\n",
    "videos = [os.path.join(video_dir, str(video_names[i]) + \".hevc\") for i in range(len(video_names))]\n",
    "angles = [os.path.join(video_dir, str(video_names[i]) + \".txt\") for i in range(len(video_names))]\n",
    "outputs = [os.path.join(data_dir, str(video_names[i])) for i in range(len(video_names))]\n",
    "utils.create_dirs(outputs)"
   ]
  },
  {
   "cell_type": "code",
   "execution_count": 19,
   "id": "fcbcd02c",
   "metadata": {},
   "outputs": [
    {
     "name": "stdout",
     "output_type": "stream",
     "text": [
      "Elapsed time: 356.4837 seconds\n"
     ]
    }
   ],
   "source": [
    "utils.setup_videos(videos, outputs, angles, basic_transform)"
   ]
  },
  {
   "cell_type": "code",
   "execution_count": 20,
   "id": "88901ab2",
   "metadata": {},
   "outputs": [
    {
     "name": "stdout",
     "output_type": "stream",
     "text": [
      "Elapsed time: 12.3527 seconds\n"
     ]
    }
   ],
   "source": [
    "train_split = 0.8\n",
    "test_split = 0.1\n",
    "utils.split_train_valid_test(outputs, data_dir, train_split, test_split)"
   ]
  },
  {
   "cell_type": "code",
   "execution_count": 7,
   "id": "ce1f725e",
   "metadata": {},
   "outputs": [],
   "source": [
    "#basic_train_dir = os.path.join(data_dir, \"basic_train\")\n",
    "#inputs = [os.path.join(basic_train_dir, str(i)) for i in range(5)]\n",
    "#train_dir = os.path.join(data_dir, \"train\")\n",
    "#utils.create_dir(train_dir)\n",
    "def augment_normalize():\n",
    "    norm_videos = [os.path.join(train_dir, str(i)) for i in range(0, 5)]\n",
    "    utils.create_dirs(norm_videos)\n",
    "    utils.augment_videos(inputs, norm_videos, trf_normalize)\n",
    "    \n",
    "def augment_rotation():\n",
    "    rot_videos = [os.path.join(train_dir, str(i)) for i in range(5, 10)]\n",
    "    utils.create_dirs(rot_videos)\n",
    "    utils.augment_videos(inputs, rot_videos, trf_rotate)\n",
    "\n",
    "def augment_translate():\n",
    "    transl_videos = [os.path.join(train_dir, str(i)) for i in range(10, 15)]\n",
    "    utils.create_dirs(transl_videos)\n",
    "    utils.augment_videos(inputs, transl_videos, trf_translate)\n",
    "    \n",
    "def augment_jitter():\n",
    "    jitter_videos = [os.path.join(train_dir, str(i)) for i in range(15, 20)]\n",
    "    utils.create_dirs(jitter_videos)\n",
    "    utils.augment_videos(inputs, jitter_videos, trf_jitter)\n",
    "    \n",
    "#augment_normalize()\n",
    "#augment_rotation()\n",
    "#augment_translate()\n",
    "#augment_jitter()"
   ]
  },
  {
   "cell_type": "code",
   "execution_count": 12,
   "id": "5ca44180",
   "metadata": {},
   "outputs": [
    {
     "data": {
      "text/plain": [
       "291"
      ]
     },
     "execution_count": 12,
     "metadata": {},
     "output_type": "execute_result"
    }
   ],
   "source": [
    "width // 4"
   ]
  }
 ],
 "metadata": {
  "kernelspec": {
   "display_name": "Python 3",
   "language": "python",
   "name": "python3"
  },
  "language_info": {
   "codemirror_mode": {
    "name": "ipython",
    "version": 3
   },
   "file_extension": ".py",
   "mimetype": "text/x-python",
   "name": "python",
   "nbconvert_exporter": "python",
   "pygments_lexer": "ipython3",
   "version": "3.9.5"
  }
 },
 "nbformat": 4,
 "nbformat_minor": 5
}
