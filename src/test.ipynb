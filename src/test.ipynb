{
 "cells": [
  {
   "cell_type": "code",
   "execution_count": 1,
   "source": [
    "from models import MNISTModel\r\n",
    "import time\r\n",
    "import torchvision\r\n",
    "import torch\r\n",
    "from torch.utils.data import Dataset, DataLoader\r\n",
    "import random\r\n",
    "import numpy as np\r\n",
    "import torch.nn.functional as F\r\n",
    "import matplotlib.pyplot as plt\r\n",
    "from dataclasses import dataclass, field\r\n",
    "import math"
   ],
   "outputs": [],
   "metadata": {}
  },
  {
   "cell_type": "code",
   "execution_count": 64,
   "source": [
    "@dataclass \r\n",
    "class ActivationMapHook:\r\n",
    "    activation: dict = field(default_factory=dict)\r\n",
    "    \r\n",
    "    def get_activation(self, name):\r\n",
    "        def hook(model, input, output):\r\n",
    "            self.activation[name] = output.detach()\r\n",
    "        return hook\r\n",
    "\r\n",
    "    def __getitem__(self, idx):\r\n",
    "        return self.activation[idx]\r\n",
    "    \r\n",
    "    def __setitem__(self, idx, new_value):\r\n",
    "        self.activation[idx] = new_value"
   ],
   "outputs": [],
   "metadata": {}
  },
  {
   "cell_type": "code",
   "execution_count": 2,
   "source": [
    "%matplotlib inline"
   ],
   "outputs": [],
   "metadata": {}
  },
  {
   "cell_type": "code",
   "execution_count": 3,
   "source": [
    "torch.manual_seed(0)\r\n",
    "random.seed(0)\r\n",
    "np.random.seed(0)"
   ],
   "outputs": [],
   "metadata": {}
  },
  {
   "cell_type": "code",
   "execution_count": 2,
   "source": [
    "dev = torch.device(\"cuda\") if torch.cuda.is_available() else torch.device(\"cpu\")"
   ],
   "outputs": [],
   "metadata": {}
  },
  {
   "cell_type": "code",
   "execution_count": 5,
   "source": [
    "data_train = torchvision.datasets.MNIST(\"mnist_data\", train=True, download=True, transform=torchvision.transforms.Compose([\r\n",
    "                               torchvision.transforms.ToTensor(),\r\n",
    "                               torchvision.transforms.Normalize(\r\n",
    "                                 (0.1307,), (0.3081,))\r\n",
    "                             ]))"
   ],
   "outputs": [
    {
     "output_type": "stream",
     "name": "stderr",
     "text": [
      "C:\\Users\\Giully\\AppData\\Local\\Programs\\Python\\Python39\\lib\\site-packages\\torchvision\\datasets\\mnist.py:498: UserWarning: The given NumPy array is not writeable, and PyTorch does not support non-writeable tensors. This means you can write to the underlying (supposedly non-writeable) NumPy array using the tensor. You may want to copy the array to protect its data or make it writeable before converting it to a tensor. This type of warning will be suppressed for the rest of this program. (Triggered internally at  ..\\torch\\csrc\\utils\\tensor_numpy.cpp:180.)\n",
      "  return torch.from_numpy(parsed.astype(m[2], copy=False)).view(*s)\n"
     ]
    }
   ],
   "metadata": {}
  },
  {
   "cell_type": "code",
   "execution_count": 6,
   "source": [
    "big_train_ds, small_train_ds, valid_ds = torch.utils.data.random_split(data_train, [45000, 10000, 5000])\r\n",
    "# small_train_ds, valid_ds = torch.utils.data.random_split(data_train, [55000, 5000])"
   ],
   "outputs": [],
   "metadata": {}
  },
  {
   "cell_type": "code",
   "execution_count": 7,
   "source": [
    "test_ds = torchvision.datasets.MNIST(\"mnist_data\", train=False, download=True, transform=torchvision.transforms.Compose([\r\n",
    "                               torchvision.transforms.ToTensor(),\r\n",
    "                               torchvision.transforms.Normalize(\r\n",
    "                                 (0.1307,), (0.3081,))\r\n",
    "                             ]))"
   ],
   "outputs": [],
   "metadata": {}
  },
  {
   "cell_type": "code",
   "execution_count": 8,
   "source": [
    "batch_size = 16\r\n",
    "train_dl = DataLoader(small_train_ds, batch_size=batch_size, shuffle=True)\r\n",
    "valid_dl = DataLoader(valid_ds, batch_size=batch_size, shuffle=False)\r\n",
    "test_dl = DataLoader(test_ds, batch_size=batch_size, shuffle=False)"
   ],
   "outputs": [],
   "metadata": {}
  },
  {
   "cell_type": "code",
   "execution_count": 11,
   "source": [
    "model = MNISTModel()\r\n",
    "opt = torch.optim.AdamW(model.parameters(), lr=3e-4)\r\n",
    "loss_func = torch.nn.NLLLoss()"
   ],
   "outputs": [],
   "metadata": {}
  },
  {
   "cell_type": "code",
   "execution_count": 12,
   "source": [
    "epochs = 15\r\n",
    "\r\n",
    "def loss_batch(model, loss_func, xb, yb, opt = None):\r\n",
    "    y_pred = model(xb)\r\n",
    "    loss = loss_func(y_pred, yb)\r\n",
    "\r\n",
    "    if opt is not None:\r\n",
    "        opt.zero_grad()\r\n",
    "        loss.backward()\r\n",
    "        opt.step()\r\n",
    "        \r\n",
    "    return loss.item(), len(xb)\r\n",
    "\r\n",
    "\r\n",
    "total_time = 0\r\n",
    "for epoch in range(epochs):\r\n",
    "    since = time.time()\r\n",
    "\r\n",
    "    print(f\"Start epoch #{epoch}...\")\r\n",
    "    \r\n",
    "    model.train()\r\n",
    "    train_loss = 0       \r\n",
    "    \r\n",
    "    losses, nums = zip(*[loss_batch(model, loss_func, xb.to(dev), yb.to(dev), opt) \r\n",
    "                        for xb, yb in train_dl])\r\n",
    "    train_loss += np.sum(np.multiply(losses, nums)) / np.sum(nums)\r\n",
    "    \r\n",
    "\r\n",
    "    info = f\"Train_loss: {train_loss}\\n\"\r\n",
    "\r\n",
    "\r\n",
    "    model.eval()\r\n",
    "    val_loss = 0\r\n",
    "    with torch.no_grad():        \r\n",
    "        losses, nums = zip(*[loss_batch(model, loss_func, xb.to(dev), yb.to(dev)) for xb, yb in valid_dl])\r\n",
    "        val_loss += np.sum(np.multiply(losses, nums)) / np.sum(nums)\r\n",
    "\r\n",
    "    info += f\"Valid_loss: {val_loss}\\n\" \r\n",
    "\r\n",
    "    time_elapsed = time.time() - since\r\n",
    "    total_time += time_elapsed\r\n",
    "\r\n",
    "    \r\n",
    "    info += f\"Epoch complete in {(time_elapsed // 60):.0f}m {(time_elapsed % 60):.0f}s {((time_elapsed % 1) * 1000):.0f}ms\\n\"\r\n",
    "    print(info) "
   ],
   "outputs": [
    {
     "output_type": "stream",
     "name": "stdout",
     "text": [
      "Start epoch #0...\n",
      "Train_loss: 1.226931780576706\n",
      "Valid_loss: 0.45656312322616577\n",
      "Epoch complete in 0m 6s 67ms\n",
      "\n",
      "Start epoch #1...\n",
      "Train_loss: 0.5272654540896415\n",
      "Valid_loss: 0.29007691100835803\n",
      "Epoch complete in 0m 5s 228ms\n",
      "\n",
      "Start epoch #2...\n",
      "Train_loss: 0.39328001782894134\n",
      "Valid_loss: 0.2252339083313942\n",
      "Epoch complete in 0m 5s 525ms\n",
      "\n",
      "Start epoch #3...\n",
      "Train_loss: 0.311861070433259\n",
      "Valid_loss: 0.19329886885285377\n",
      "Epoch complete in 0m 5s 573ms\n",
      "\n",
      "Start epoch #4...\n",
      "Train_loss: 0.26581910811215637\n",
      "Valid_loss: 0.1602518509939313\n",
      "Epoch complete in 0m 4s 499ms\n",
      "\n",
      "Start epoch #5...\n",
      "Train_loss: 0.23767090827971696\n",
      "Valid_loss: 0.14793730281963943\n",
      "Epoch complete in 0m 5s 553ms\n",
      "\n",
      "Start epoch #6...\n",
      "Train_loss: 0.21016694739833475\n",
      "Valid_loss: 0.14196145180910827\n",
      "Epoch complete in 0m 5s 533ms\n",
      "\n",
      "Start epoch #7...\n",
      "Train_loss: 0.19530695740804077\n",
      "Valid_loss: 0.12156344006508589\n",
      "Epoch complete in 0m 5s 554ms\n",
      "\n",
      "Start epoch #8...\n",
      "Train_loss: 0.17712603775113822\n",
      "Valid_loss: 0.12508901273310186\n",
      "Epoch complete in 0m 5s 681ms\n",
      "\n",
      "Start epoch #9...\n",
      "Train_loss: 0.17359730149209499\n",
      "Valid_loss: 0.11050259733870625\n",
      "Epoch complete in 0m 5s 676ms\n",
      "\n",
      "Start epoch #10...\n",
      "Train_loss: 0.15760044909082352\n",
      "Valid_loss: 0.10758435053788125\n",
      "Epoch complete in 0m 5s 556ms\n",
      "\n",
      "Start epoch #11...\n",
      "Train_loss: 0.14927241079956294\n",
      "Valid_loss: 0.09885621471405029\n",
      "Epoch complete in 0m 5s 535ms\n",
      "\n",
      "Start epoch #12...\n",
      "Train_loss: 0.141198739239946\n",
      "Valid_loss: 0.10510847474262118\n",
      "Epoch complete in 0m 5s 633ms\n",
      "\n",
      "Start epoch #13...\n",
      "Train_loss: 0.13844268224220724\n",
      "Valid_loss: 0.08939529846422374\n",
      "Epoch complete in 0m 5s 505ms\n",
      "\n",
      "Start epoch #14...\n",
      "Train_loss: 0.13047654462493957\n",
      "Valid_loss: 0.08715391841121017\n",
      "Epoch complete in 0m 4s 484ms\n",
      "\n"
     ]
    }
   ],
   "metadata": {}
  },
  {
   "cell_type": "code",
   "execution_count": null,
   "source": [
    "activation = ActivationMapHook()\r\n",
    "\r\n",
    "model.cnn[0].register_forward_hook(activation.get_activation('cnn[0]'))\r\n",
    "model.cnn[1].register_forward_hook(activation.get_activation('cnn[1]'))\r\n",
    "data, y = small_train_ds[2]\r\n",
    "data.unsqueeze_(0)\r\n",
    "output = model(data)\r\n",
    "\r\n",
    "act = activation['cnn[0]'].squeeze()\r\n",
    "fig, axarr = plt.subplots(act.size(0) // 4, act.size(0) // 4, figsize=(18, 16), dpi=80)\r\n",
    "for i in range(act.size(0) // 4):\r\n",
    "    for j in range(4):\r\n",
    "        axarr[i, j].imshow(act[i * 4 + j])"
   ],
   "outputs": [],
   "metadata": {}
  },
  {
   "cell_type": "code",
   "execution_count": 72,
   "source": [
    "r:torch.Tensor = model(data)"
   ],
   "outputs": [],
   "metadata": {}
  },
  {
   "cell_type": "code",
   "execution_count": null,
   "source": [
    "r.backward()"
   ],
   "outputs": [],
   "metadata": {}
  },
  {
   "cell_type": "code",
   "execution_count": 80,
   "source": [
    "# Visualize feature maps\r\n",
    "activation = {}\r\n",
    "def get_activation(name):\r\n",
    "    def hook(model, input, output):\r\n",
    "        activation[name] = output.detach()\r\n",
    "    return hook \r\n",
    "\r\n",
    "model.cnn[0].register_forward_hook(get_activation('cnn[0]'))\r\n",
    "data, _ = small_train_ds[2]\r\n",
    "data.unsqueeze_(0)\r\n",
    "output = model(data)\r\n",
    "\r\n",
    "act = activation['cnn[0]'].squeeze()\r\n",
    "n_cols = 4\r\n",
    "n_rows = 1\r\n",
    "fig, axarr = plt.subplots(n_rows, n_cols, figsize=(30, 30), dpi=80)\r\n",
    "for i in range(n_rows):\r\n",
    "    for j in range(n_cols):\r\n",
    "        axarr[j].imshow(act[i * n_cols + j], cmap='gray')"
   ],
   "outputs": [
    {
     "output_type": "display_data",
     "data": {
      "text/plain": [
       "<Figure size 2400x2400 with 4 Axes>"
      ],
      "image/svg+xml": "<?xml version=\"1.0\" encoding=\"utf-8\" standalone=\"no\"?>\r\n<!DOCTYPE svg PUBLIC \"-//W3C//DTD SVG 1.1//EN\"\r\n  \"http://www.w3.org/Graphics/SVG/1.1/DTD/svg11.dtd\">\r\n<svg height=\"394.991168pt\" version=\"1.1\" viewBox=\"0 0 1708.125 394.991168\" width=\"1708.125pt\" xmlns=\"http://www.w3.org/2000/svg\" xmlns:xlink=\"http://www.w3.org/1999/xlink\">\r\n <metadata>\r\n  <rdf:RDF xmlns:cc=\"http://creativecommons.org/ns#\" xmlns:dc=\"http://purl.org/dc/elements/1.1/\" xmlns:rdf=\"http://www.w3.org/1999/02/22-rdf-syntax-ns#\">\r\n   <cc:Work>\r\n    <dc:type rdf:resource=\"http://purl.org/dc/dcmitype/StillImage\"/>\r\n    <dc:date>2021-08-25T16:34:23.416114</dc:date>\r\n    <dc:format>image/svg+xml</dc:format>\r\n    <dc:creator>\r\n     <cc:Agent>\r\n      <dc:title>Matplotlib v3.4.3, https://matplotlib.org/</dc:title>\r\n     </cc:Agent>\r\n    </dc:creator>\r\n   </cc:Work>\r\n  </rdf:RDF>\r\n </metadata>\r\n <defs>\r\n  <style type=\"text/css\">*{stroke-linecap:butt;stroke-linejoin:round;}</style>\r\n </defs>\r\n <g id=\"figure_1\">\r\n  <g id=\"patch_1\">\r\n   <path d=\"M 0 394.991168 \r\nL 1708.125 394.991168 \r\nL 1708.125 0 \r\nL 0 0 \r\nz\r\n\" style=\"fill:none;\"/>\r\n  </g>\r\n  <g id=\"axes_1\">\r\n   <g id=\"patch_2\">\r\n    <path d=\"M 26.925 371.113043 \r\nL 390.838043 371.113043 \r\nL 390.838043 7.2 \r\nL 26.925 7.2 \r\nz\r\n\" style=\"fill:#ffffff;\"/>\r\n   </g>\r\n   <g clip-path=\"url(#p3cb81f1758)\">\r\n    <image height=\"364.5\" id=\"imageb93238b772\" transform=\"scale(1 -1)translate(0 -364.5)\" width=\"364.5\" x=\"26.925\" xlink:href=\"data:image/png;base64,\r\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\" y=\"-6.613043\"/>\r\n   </g>\r\n   <g id=\"matplotlib.axis_1\">\r\n    <g id=\"xtick_1\">\r\n     <g id=\"line2d_1\">\r\n      <defs>\r\n       <path d=\"M 0 0 \r\nL 0 3.5 \r\n\" id=\"m6397701389\" style=\"stroke:#000000;stroke-width:0.8;\"/>\r\n      </defs>\r\n      <g>\r\n       <use style=\"stroke:#000000;stroke-width:0.8;\" x=\"40.921656\" xlink:href=\"#m6397701389\" y=\"371.113043\"/>\r\n      </g>\r\n     </g>\r\n     <g id=\"text_1\">\r\n      <!-- 0 -->\r\n      <g transform=\"translate(37.740406 385.711481)scale(0.1 -0.1)\">\r\n       <defs>\r\n        <path d=\"M 2034 4250 \r\nQ 1547 4250 1301 3770 \r\nQ 1056 3291 1056 2328 \r\nQ 1056 1369 1301 889 \r\nQ 1547 409 2034 409 \r\nQ 2525 409 2770 889 \r\nQ 3016 1369 3016 2328 \r\nQ 3016 3291 2770 3770 \r\nQ 2525 4250 2034 4250 \r\nz\r\nM 2034 4750 \r\nQ 2819 4750 3233 4129 \r\nQ 3647 3509 3647 2328 \r\nQ 3647 1150 3233 529 \r\nQ 2819 -91 2034 -91 \r\nQ 1250 -91 836 529 \r\nQ 422 1150 422 2328 \r\nQ 422 3509 836 4129 \r\nQ 1250 4750 2034 4750 \r\nz\r\n\" id=\"DejaVuSans-30\" transform=\"scale(0.015625)\"/>\r\n       </defs>\r\n       <use xlink:href=\"#DejaVuSans-30\"/>\r\n      </g>\r\n     </g>\r\n    </g>\r\n    <g id=\"xtick_2\">\r\n     <g id=\"line2d_2\">\r\n      <g>\r\n       <use style=\"stroke:#000000;stroke-width:0.8;\" x=\"96.908278\" xlink:href=\"#m6397701389\" y=\"371.113043\"/>\r\n      </g>\r\n     </g>\r\n     <g id=\"text_2\">\r\n      <!-- 2 -->\r\n      <g transform=\"translate(93.727028 385.711481)scale(0.1 -0.1)\">\r\n       <defs>\r\n        <path d=\"M 1228 531 \r\nL 3431 531 \r\nL 3431 0 \r\nL 469 0 \r\nL 469 531 \r\nQ 828 903 1448 1529 \r\nQ 2069 2156 2228 2338 \r\nQ 2531 2678 2651 2914 \r\nQ 2772 3150 2772 3378 \r\nQ 2772 3750 2511 3984 \r\nQ 2250 4219 1831 4219 \r\nQ 1534 4219 1204 4116 \r\nQ 875 4013 500 3803 \r\nL 500 4441 \r\nQ 881 4594 1212 4672 \r\nQ 1544 4750 1819 4750 \r\nQ 2544 4750 2975 4387 \r\nQ 3406 4025 3406 3419 \r\nQ 3406 3131 3298 2873 \r\nQ 3191 2616 2906 2266 \r\nQ 2828 2175 2409 1742 \r\nQ 1991 1309 1228 531 \r\nz\r\n\" id=\"DejaVuSans-32\" transform=\"scale(0.015625)\"/>\r\n       </defs>\r\n       <use xlink:href=\"#DejaVuSans-32\"/>\r\n      </g>\r\n     </g>\r\n    </g>\r\n    <g id=\"xtick_3\">\r\n     <g id=\"line2d_3\">\r\n      <g>\r\n       <use style=\"stroke:#000000;stroke-width:0.8;\" x=\"152.8949\" xlink:href=\"#m6397701389\" y=\"371.113043\"/>\r\n      </g>\r\n     </g>\r\n     <g id=\"text_3\">\r\n      <!-- 4 -->\r\n      <g transform=\"translate(149.71365 385.711481)scale(0.1 -0.1)\">\r\n       <defs>\r\n        <path d=\"M 2419 4116 \r\nL 825 1625 \r\nL 2419 1625 \r\nL 2419 4116 \r\nz\r\nM 2253 4666 \r\nL 3047 4666 \r\nL 3047 1625 \r\nL 3713 1625 \r\nL 3713 1100 \r\nL 3047 1100 \r\nL 3047 0 \r\nL 2419 0 \r\nL 2419 1100 \r\nL 313 1100 \r\nL 313 1709 \r\nL 2253 4666 \r\nz\r\n\" id=\"DejaVuSans-34\" transform=\"scale(0.015625)\"/>\r\n       </defs>\r\n       <use xlink:href=\"#DejaVuSans-34\"/>\r\n      </g>\r\n     </g>\r\n    </g>\r\n    <g id=\"xtick_4\">\r\n     <g id=\"line2d_4\">\r\n      <g>\r\n       <use style=\"stroke:#000000;stroke-width:0.8;\" x=\"208.881522\" xlink:href=\"#m6397701389\" y=\"371.113043\"/>\r\n      </g>\r\n     </g>\r\n     <g id=\"text_4\">\r\n      <!-- 6 -->\r\n      <g transform=\"translate(205.700272 385.711481)scale(0.1 -0.1)\">\r\n       <defs>\r\n        <path d=\"M 2113 2584 \r\nQ 1688 2584 1439 2293 \r\nQ 1191 2003 1191 1497 \r\nQ 1191 994 1439 701 \r\nQ 1688 409 2113 409 \r\nQ 2538 409 2786 701 \r\nQ 3034 994 3034 1497 \r\nQ 3034 2003 2786 2293 \r\nQ 2538 2584 2113 2584 \r\nz\r\nM 3366 4563 \r\nL 3366 3988 \r\nQ 3128 4100 2886 4159 \r\nQ 2644 4219 2406 4219 \r\nQ 1781 4219 1451 3797 \r\nQ 1122 3375 1075 2522 \r\nQ 1259 2794 1537 2939 \r\nQ 1816 3084 2150 3084 \r\nQ 2853 3084 3261 2657 \r\nQ 3669 2231 3669 1497 \r\nQ 3669 778 3244 343 \r\nQ 2819 -91 2113 -91 \r\nQ 1303 -91 875 529 \r\nQ 447 1150 447 2328 \r\nQ 447 3434 972 4092 \r\nQ 1497 4750 2381 4750 \r\nQ 2619 4750 2861 4703 \r\nQ 3103 4656 3366 4563 \r\nz\r\n\" id=\"DejaVuSans-36\" transform=\"scale(0.015625)\"/>\r\n       </defs>\r\n       <use xlink:href=\"#DejaVuSans-36\"/>\r\n      </g>\r\n     </g>\r\n    </g>\r\n    <g id=\"xtick_5\">\r\n     <g id=\"line2d_5\">\r\n      <g>\r\n       <use style=\"stroke:#000000;stroke-width:0.8;\" x=\"264.868144\" xlink:href=\"#m6397701389\" y=\"371.113043\"/>\r\n      </g>\r\n     </g>\r\n     <g id=\"text_5\">\r\n      <!-- 8 -->\r\n      <g transform=\"translate(261.686894 385.711481)scale(0.1 -0.1)\">\r\n       <defs>\r\n        <path d=\"M 2034 2216 \r\nQ 1584 2216 1326 1975 \r\nQ 1069 1734 1069 1313 \r\nQ 1069 891 1326 650 \r\nQ 1584 409 2034 409 \r\nQ 2484 409 2743 651 \r\nQ 3003 894 3003 1313 \r\nQ 3003 1734 2745 1975 \r\nQ 2488 2216 2034 2216 \r\nz\r\nM 1403 2484 \r\nQ 997 2584 770 2862 \r\nQ 544 3141 544 3541 \r\nQ 544 4100 942 4425 \r\nQ 1341 4750 2034 4750 \r\nQ 2731 4750 3128 4425 \r\nQ 3525 4100 3525 3541 \r\nQ 3525 3141 3298 2862 \r\nQ 3072 2584 2669 2484 \r\nQ 3125 2378 3379 2068 \r\nQ 3634 1759 3634 1313 \r\nQ 3634 634 3220 271 \r\nQ 2806 -91 2034 -91 \r\nQ 1263 -91 848 271 \r\nQ 434 634 434 1313 \r\nQ 434 1759 690 2068 \r\nQ 947 2378 1403 2484 \r\nz\r\nM 1172 3481 \r\nQ 1172 3119 1398 2916 \r\nQ 1625 2713 2034 2713 \r\nQ 2441 2713 2670 2916 \r\nQ 2900 3119 2900 3481 \r\nQ 2900 3844 2670 4047 \r\nQ 2441 4250 2034 4250 \r\nQ 1625 4250 1398 4047 \r\nQ 1172 3844 1172 3481 \r\nz\r\n\" id=\"DejaVuSans-38\" transform=\"scale(0.015625)\"/>\r\n       </defs>\r\n       <use xlink:href=\"#DejaVuSans-38\"/>\r\n      </g>\r\n     </g>\r\n    </g>\r\n    <g id=\"xtick_6\">\r\n     <g id=\"line2d_6\">\r\n      <g>\r\n       <use style=\"stroke:#000000;stroke-width:0.8;\" x=\"320.854766\" xlink:href=\"#m6397701389\" y=\"371.113043\"/>\r\n      </g>\r\n     </g>\r\n     <g id=\"text_6\">\r\n      <!-- 10 -->\r\n      <g transform=\"translate(314.492266 385.711481)scale(0.1 -0.1)\">\r\n       <defs>\r\n        <path d=\"M 794 531 \r\nL 1825 531 \r\nL 1825 4091 \r\nL 703 3866 \r\nL 703 4441 \r\nL 1819 4666 \r\nL 2450 4666 \r\nL 2450 531 \r\nL 3481 531 \r\nL 3481 0 \r\nL 794 0 \r\nL 794 531 \r\nz\r\n\" id=\"DejaVuSans-31\" transform=\"scale(0.015625)\"/>\r\n       </defs>\r\n       <use xlink:href=\"#DejaVuSans-31\"/>\r\n       <use x=\"63.623047\" xlink:href=\"#DejaVuSans-30\"/>\r\n      </g>\r\n     </g>\r\n    </g>\r\n    <g id=\"xtick_7\">\r\n     <g id=\"line2d_7\">\r\n      <g>\r\n       <use style=\"stroke:#000000;stroke-width:0.8;\" x=\"376.841388\" xlink:href=\"#m6397701389\" y=\"371.113043\"/>\r\n      </g>\r\n     </g>\r\n     <g id=\"text_7\">\r\n      <!-- 12 -->\r\n      <g transform=\"translate(370.478888 385.711481)scale(0.1 -0.1)\">\r\n       <use xlink:href=\"#DejaVuSans-31\"/>\r\n       <use x=\"63.623047\" xlink:href=\"#DejaVuSans-32\"/>\r\n      </g>\r\n     </g>\r\n    </g>\r\n   </g>\r\n   <g id=\"matplotlib.axis_2\">\r\n    <g id=\"ytick_1\">\r\n     <g id=\"line2d_8\">\r\n      <defs>\r\n       <path d=\"M 0 0 \r\nL -3.5 0 \r\n\" id=\"m917373ae4e\" style=\"stroke:#000000;stroke-width:0.8;\"/>\r\n      </defs>\r\n      <g>\r\n       <use style=\"stroke:#000000;stroke-width:0.8;\" x=\"26.925\" xlink:href=\"#m917373ae4e\" y=\"21.196656\"/>\r\n      </g>\r\n     </g>\r\n     <g id=\"text_8\">\r\n      <!-- 0 -->\r\n      <g transform=\"translate(13.5625 24.995874)scale(0.1 -0.1)\">\r\n       <use xlink:href=\"#DejaVuSans-30\"/>\r\n      </g>\r\n     </g>\r\n    </g>\r\n    <g id=\"ytick_2\">\r\n     <g id=\"line2d_9\">\r\n      <g>\r\n       <use style=\"stroke:#000000;stroke-width:0.8;\" x=\"26.925\" xlink:href=\"#m917373ae4e\" y=\"77.183278\"/>\r\n      </g>\r\n     </g>\r\n     <g id=\"text_9\">\r\n      <!-- 2 -->\r\n      <g transform=\"translate(13.5625 80.982496)scale(0.1 -0.1)\">\r\n       <use xlink:href=\"#DejaVuSans-32\"/>\r\n      </g>\r\n     </g>\r\n    </g>\r\n    <g id=\"ytick_3\">\r\n     <g id=\"line2d_10\">\r\n      <g>\r\n       <use style=\"stroke:#000000;stroke-width:0.8;\" x=\"26.925\" xlink:href=\"#m917373ae4e\" y=\"133.1699\"/>\r\n      </g>\r\n     </g>\r\n     <g id=\"text_10\">\r\n      <!-- 4 -->\r\n      <g transform=\"translate(13.5625 136.969118)scale(0.1 -0.1)\">\r\n       <use xlink:href=\"#DejaVuSans-34\"/>\r\n      </g>\r\n     </g>\r\n    </g>\r\n    <g id=\"ytick_4\">\r\n     <g id=\"line2d_11\">\r\n      <g>\r\n       <use style=\"stroke:#000000;stroke-width:0.8;\" x=\"26.925\" xlink:href=\"#m917373ae4e\" y=\"189.156522\"/>\r\n      </g>\r\n     </g>\r\n     <g id=\"text_11\">\r\n      <!-- 6 -->\r\n      <g transform=\"translate(13.5625 192.95574)scale(0.1 -0.1)\">\r\n       <use xlink:href=\"#DejaVuSans-36\"/>\r\n      </g>\r\n     </g>\r\n    </g>\r\n    <g id=\"ytick_5\">\r\n     <g id=\"line2d_12\">\r\n      <g>\r\n       <use style=\"stroke:#000000;stroke-width:0.8;\" x=\"26.925\" xlink:href=\"#m917373ae4e\" y=\"245.143144\"/>\r\n      </g>\r\n     </g>\r\n     <g id=\"text_12\">\r\n      <!-- 8 -->\r\n      <g transform=\"translate(13.5625 248.942363)scale(0.1 -0.1)\">\r\n       <use xlink:href=\"#DejaVuSans-38\"/>\r\n      </g>\r\n     </g>\r\n    </g>\r\n    <g id=\"ytick_6\">\r\n     <g id=\"line2d_13\">\r\n      <g>\r\n       <use style=\"stroke:#000000;stroke-width:0.8;\" x=\"26.925\" xlink:href=\"#m917373ae4e\" y=\"301.129766\"/>\r\n      </g>\r\n     </g>\r\n     <g id=\"text_13\">\r\n      <!-- 10 -->\r\n      <g transform=\"translate(7.2 304.928985)scale(0.1 -0.1)\">\r\n       <use xlink:href=\"#DejaVuSans-31\"/>\r\n       <use x=\"63.623047\" xlink:href=\"#DejaVuSans-30\"/>\r\n      </g>\r\n     </g>\r\n    </g>\r\n    <g id=\"ytick_7\">\r\n     <g id=\"line2d_14\">\r\n      <g>\r\n       <use style=\"stroke:#000000;stroke-width:0.8;\" x=\"26.925\" xlink:href=\"#m917373ae4e\" y=\"357.116388\"/>\r\n      </g>\r\n     </g>\r\n     <g id=\"text_14\">\r\n      <!-- 12 -->\r\n      <g transform=\"translate(7.2 360.915607)scale(0.1 -0.1)\">\r\n       <use xlink:href=\"#DejaVuSans-31\"/>\r\n       <use x=\"63.623047\" xlink:href=\"#DejaVuSans-32\"/>\r\n      </g>\r\n     </g>\r\n    </g>\r\n   </g>\r\n   <g id=\"patch_3\">\r\n    <path d=\"M 26.925 371.113043 \r\nL 26.925 7.2 \r\n\" style=\"fill:none;stroke:#000000;stroke-linecap:square;stroke-linejoin:miter;stroke-width:0.8;\"/>\r\n   </g>\r\n   <g id=\"patch_4\">\r\n    <path d=\"M 390.838043 371.113043 \r\nL 390.838043 7.2 \r\n\" style=\"fill:none;stroke:#000000;stroke-linecap:square;stroke-linejoin:miter;stroke-width:0.8;\"/>\r\n   </g>\r\n   <g id=\"patch_5\">\r\n    <path d=\"M 26.925 371.113043 \r\nL 390.838043 371.113043 \r\n\" style=\"fill:none;stroke:#000000;stroke-linecap:square;stroke-linejoin:miter;stroke-width:0.8;\"/>\r\n   </g>\r\n   <g id=\"patch_6\">\r\n    <path d=\"M 26.925 7.2 \r\nL 390.838043 7.2 \r\n\" style=\"fill:none;stroke:#000000;stroke-linecap:square;stroke-linejoin:miter;stroke-width:0.8;\"/>\r\n   </g>\r\n  </g>\r\n  <g id=\"axes_2\">\r\n   <g id=\"patch_7\">\r\n    <path d=\"M 463.620652 371.113043 \r\nL 827.533696 371.113043 \r\nL 827.533696 7.2 \r\nL 463.620652 7.2 \r\nz\r\n\" style=\"fill:#ffffff;\"/>\r\n   </g>\r\n   <g clip-path=\"url(#p49784a0609)\">\r\n    <image height=\"364.5\" id=\"image5ecc271a5a\" transform=\"scale(1 -1)translate(0 -364.5)\" width=\"364.5\" x=\"463.620652\" xlink:href=\"data:image/png;base64,\r\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\" y=\"-6.613043\"/>\r\n   </g>\r\n   <g id=\"matplotlib.axis_3\">\r\n    <g id=\"xtick_8\">\r\n     <g id=\"line2d_15\">\r\n      <g>\r\n       <use style=\"stroke:#000000;stroke-width:0.8;\" x=\"477.617308\" xlink:href=\"#m6397701389\" y=\"371.113043\"/>\r\n      </g>\r\n     </g>\r\n     <g id=\"text_15\">\r\n      <!-- 0 -->\r\n      <g transform=\"translate(474.436058 385.711481)scale(0.1 -0.1)\">\r\n       <use xlink:href=\"#DejaVuSans-30\"/>\r\n      </g>\r\n     </g>\r\n    </g>\r\n    <g id=\"xtick_9\">\r\n     <g id=\"line2d_16\">\r\n      <g>\r\n       <use style=\"stroke:#000000;stroke-width:0.8;\" x=\"533.60393\" xlink:href=\"#m6397701389\" y=\"371.113043\"/>\r\n      </g>\r\n     </g>\r\n     <g id=\"text_16\">\r\n      <!-- 2 -->\r\n      <g transform=\"translate(530.42268 385.711481)scale(0.1 -0.1)\">\r\n       <use xlink:href=\"#DejaVuSans-32\"/>\r\n      </g>\r\n     </g>\r\n    </g>\r\n    <g id=\"xtick_10\">\r\n     <g id=\"line2d_17\">\r\n      <g>\r\n       <use style=\"stroke:#000000;stroke-width:0.8;\" x=\"589.590552\" xlink:href=\"#m6397701389\" y=\"371.113043\"/>\r\n      </g>\r\n     </g>\r\n     <g id=\"text_17\">\r\n      <!-- 4 -->\r\n      <g transform=\"translate(586.409302 385.711481)scale(0.1 -0.1)\">\r\n       <use xlink:href=\"#DejaVuSans-34\"/>\r\n      </g>\r\n     </g>\r\n    </g>\r\n    <g id=\"xtick_11\">\r\n     <g id=\"line2d_18\">\r\n      <g>\r\n       <use style=\"stroke:#000000;stroke-width:0.8;\" x=\"645.577174\" xlink:href=\"#m6397701389\" y=\"371.113043\"/>\r\n      </g>\r\n     </g>\r\n     <g id=\"text_18\">\r\n      <!-- 6 -->\r\n      <g transform=\"translate(642.395924 385.711481)scale(0.1 -0.1)\">\r\n       <use xlink:href=\"#DejaVuSans-36\"/>\r\n      </g>\r\n     </g>\r\n    </g>\r\n    <g id=\"xtick_12\">\r\n     <g id=\"line2d_19\">\r\n      <g>\r\n       <use style=\"stroke:#000000;stroke-width:0.8;\" x=\"701.563796\" xlink:href=\"#m6397701389\" y=\"371.113043\"/>\r\n      </g>\r\n     </g>\r\n     <g id=\"text_19\">\r\n      <!-- 8 -->\r\n      <g transform=\"translate(698.382546 385.711481)scale(0.1 -0.1)\">\r\n       <use xlink:href=\"#DejaVuSans-38\"/>\r\n      </g>\r\n     </g>\r\n    </g>\r\n    <g id=\"xtick_13\">\r\n     <g id=\"line2d_20\">\r\n      <g>\r\n       <use style=\"stroke:#000000;stroke-width:0.8;\" x=\"757.550418\" xlink:href=\"#m6397701389\" y=\"371.113043\"/>\r\n      </g>\r\n     </g>\r\n     <g id=\"text_20\">\r\n      <!-- 10 -->\r\n      <g transform=\"translate(751.187918 385.711481)scale(0.1 -0.1)\">\r\n       <use xlink:href=\"#DejaVuSans-31\"/>\r\n       <use x=\"63.623047\" xlink:href=\"#DejaVuSans-30\"/>\r\n      </g>\r\n     </g>\r\n    </g>\r\n    <g id=\"xtick_14\">\r\n     <g id=\"line2d_21\">\r\n      <g>\r\n       <use style=\"stroke:#000000;stroke-width:0.8;\" x=\"813.53704\" xlink:href=\"#m6397701389\" y=\"371.113043\"/>\r\n      </g>\r\n     </g>\r\n     <g id=\"text_21\">\r\n      <!-- 12 -->\r\n      <g transform=\"translate(807.17454 385.711481)scale(0.1 -0.1)\">\r\n       <use xlink:href=\"#DejaVuSans-31\"/>\r\n       <use x=\"63.623047\" xlink:href=\"#DejaVuSans-32\"/>\r\n      </g>\r\n     </g>\r\n    </g>\r\n   </g>\r\n   <g id=\"matplotlib.axis_4\">\r\n    <g id=\"ytick_8\">\r\n     <g id=\"line2d_22\">\r\n      <g>\r\n       <use style=\"stroke:#000000;stroke-width:0.8;\" x=\"463.620652\" xlink:href=\"#m917373ae4e\" y=\"21.196656\"/>\r\n      </g>\r\n     </g>\r\n     <g id=\"text_22\">\r\n      <!-- 0 -->\r\n      <g transform=\"translate(450.258152 24.995874)scale(0.1 -0.1)\">\r\n       <use xlink:href=\"#DejaVuSans-30\"/>\r\n      </g>\r\n     </g>\r\n    </g>\r\n    <g id=\"ytick_9\">\r\n     <g id=\"line2d_23\">\r\n      <g>\r\n       <use style=\"stroke:#000000;stroke-width:0.8;\" x=\"463.620652\" xlink:href=\"#m917373ae4e\" y=\"77.183278\"/>\r\n      </g>\r\n     </g>\r\n     <g id=\"text_23\">\r\n      <!-- 2 -->\r\n      <g transform=\"translate(450.258152 80.982496)scale(0.1 -0.1)\">\r\n       <use xlink:href=\"#DejaVuSans-32\"/>\r\n      </g>\r\n     </g>\r\n    </g>\r\n    <g id=\"ytick_10\">\r\n     <g id=\"line2d_24\">\r\n      <g>\r\n       <use style=\"stroke:#000000;stroke-width:0.8;\" x=\"463.620652\" xlink:href=\"#m917373ae4e\" y=\"133.1699\"/>\r\n      </g>\r\n     </g>\r\n     <g id=\"text_24\">\r\n      <!-- 4 -->\r\n      <g transform=\"translate(450.258152 136.969118)scale(0.1 -0.1)\">\r\n       <use xlink:href=\"#DejaVuSans-34\"/>\r\n      </g>\r\n     </g>\r\n    </g>\r\n    <g id=\"ytick_11\">\r\n     <g id=\"line2d_25\">\r\n      <g>\r\n       <use style=\"stroke:#000000;stroke-width:0.8;\" x=\"463.620652\" xlink:href=\"#m917373ae4e\" y=\"189.156522\"/>\r\n      </g>\r\n     </g>\r\n     <g id=\"text_25\">\r\n      <!-- 6 -->\r\n      <g transform=\"translate(450.258152 192.95574)scale(0.1 -0.1)\">\r\n       <use xlink:href=\"#DejaVuSans-36\"/>\r\n      </g>\r\n     </g>\r\n    </g>\r\n    <g id=\"ytick_12\">\r\n     <g id=\"line2d_26\">\r\n      <g>\r\n       <use style=\"stroke:#000000;stroke-width:0.8;\" x=\"463.620652\" xlink:href=\"#m917373ae4e\" y=\"245.143144\"/>\r\n      </g>\r\n     </g>\r\n     <g id=\"text_26\">\r\n      <!-- 8 -->\r\n      <g transform=\"translate(450.258152 248.942363)scale(0.1 -0.1)\">\r\n       <use xlink:href=\"#DejaVuSans-38\"/>\r\n      </g>\r\n     </g>\r\n    </g>\r\n    <g id=\"ytick_13\">\r\n     <g id=\"line2d_27\">\r\n      <g>\r\n       <use style=\"stroke:#000000;stroke-width:0.8;\" x=\"463.620652\" xlink:href=\"#m917373ae4e\" y=\"301.129766\"/>\r\n      </g>\r\n     </g>\r\n     <g id=\"text_27\">\r\n      <!-- 10 -->\r\n      <g transform=\"translate(443.895652 304.928985)scale(0.1 -0.1)\">\r\n       <use xlink:href=\"#DejaVuSans-31\"/>\r\n       <use x=\"63.623047\" xlink:href=\"#DejaVuSans-30\"/>\r\n      </g>\r\n     </g>\r\n    </g>\r\n    <g id=\"ytick_14\">\r\n     <g id=\"line2d_28\">\r\n      <g>\r\n       <use style=\"stroke:#000000;stroke-width:0.8;\" x=\"463.620652\" xlink:href=\"#m917373ae4e\" y=\"357.116388\"/>\r\n      </g>\r\n     </g>\r\n     <g id=\"text_28\">\r\n      <!-- 12 -->\r\n      <g transform=\"translate(443.895652 360.915607)scale(0.1 -0.1)\">\r\n       <use xlink:href=\"#DejaVuSans-31\"/>\r\n       <use x=\"63.623047\" xlink:href=\"#DejaVuSans-32\"/>\r\n      </g>\r\n     </g>\r\n    </g>\r\n   </g>\r\n   <g id=\"patch_8\">\r\n    <path d=\"M 463.620652 371.113043 \r\nL 463.620652 7.2 \r\n\" style=\"fill:none;stroke:#000000;stroke-linecap:square;stroke-linejoin:miter;stroke-width:0.8;\"/>\r\n   </g>\r\n   <g id=\"patch_9\">\r\n    <path d=\"M 827.533696 371.113043 \r\nL 827.533696 7.2 \r\n\" style=\"fill:none;stroke:#000000;stroke-linecap:square;stroke-linejoin:miter;stroke-width:0.8;\"/>\r\n   </g>\r\n   <g id=\"patch_10\">\r\n    <path d=\"M 463.620652 371.113043 \r\nL 827.533696 371.113043 \r\n\" style=\"fill:none;stroke:#000000;stroke-linecap:square;stroke-linejoin:miter;stroke-width:0.8;\"/>\r\n   </g>\r\n   <g id=\"patch_11\">\r\n    <path d=\"M 463.620652 7.2 \r\nL 827.533696 7.2 \r\n\" style=\"fill:none;stroke:#000000;stroke-linecap:square;stroke-linejoin:miter;stroke-width:0.8;\"/>\r\n   </g>\r\n  </g>\r\n  <g id=\"axes_3\">\r\n   <g id=\"patch_12\">\r\n    <path d=\"M 900.316304 371.113043 \r\nL 1264.229348 371.113043 \r\nL 1264.229348 7.2 \r\nL 900.316304 7.2 \r\nz\r\n\" style=\"fill:#ffffff;\"/>\r\n   </g>\r\n   <g clip-path=\"url(#p8d0d87eafa)\">\r\n    <image height=\"364.5\" id=\"image33365208a1\" transform=\"scale(1 -1)translate(0 -364.5)\" width=\"364.5\" x=\"900.316304\" xlink:href=\"data:image/png;base64,\r\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\" y=\"-6.613043\"/>\r\n   </g>\r\n   <g id=\"matplotlib.axis_5\">\r\n    <g id=\"xtick_15\">\r\n     <g id=\"line2d_29\">\r\n      <g>\r\n       <use style=\"stroke:#000000;stroke-width:0.8;\" x=\"914.31296\" xlink:href=\"#m6397701389\" y=\"371.113043\"/>\r\n      </g>\r\n     </g>\r\n     <g id=\"text_29\">\r\n      <!-- 0 -->\r\n      <g transform=\"translate(911.13171 385.711481)scale(0.1 -0.1)\">\r\n       <use xlink:href=\"#DejaVuSans-30\"/>\r\n      </g>\r\n     </g>\r\n    </g>\r\n    <g id=\"xtick_16\">\r\n     <g id=\"line2d_30\">\r\n      <g>\r\n       <use style=\"stroke:#000000;stroke-width:0.8;\" x=\"970.299582\" xlink:href=\"#m6397701389\" y=\"371.113043\"/>\r\n      </g>\r\n     </g>\r\n     <g id=\"text_30\">\r\n      <!-- 2 -->\r\n      <g transform=\"translate(967.118332 385.711481)scale(0.1 -0.1)\">\r\n       <use xlink:href=\"#DejaVuSans-32\"/>\r\n      </g>\r\n     </g>\r\n    </g>\r\n    <g id=\"xtick_17\">\r\n     <g id=\"line2d_31\">\r\n      <g>\r\n       <use style=\"stroke:#000000;stroke-width:0.8;\" x=\"1026.286204\" xlink:href=\"#m6397701389\" y=\"371.113043\"/>\r\n      </g>\r\n     </g>\r\n     <g id=\"text_31\">\r\n      <!-- 4 -->\r\n      <g transform=\"translate(1023.104954 385.711481)scale(0.1 -0.1)\">\r\n       <use xlink:href=\"#DejaVuSans-34\"/>\r\n      </g>\r\n     </g>\r\n    </g>\r\n    <g id=\"xtick_18\">\r\n     <g id=\"line2d_32\">\r\n      <g>\r\n       <use style=\"stroke:#000000;stroke-width:0.8;\" x=\"1082.272826\" xlink:href=\"#m6397701389\" y=\"371.113043\"/>\r\n      </g>\r\n     </g>\r\n     <g id=\"text_32\">\r\n      <!-- 6 -->\r\n      <g transform=\"translate(1079.091576 385.711481)scale(0.1 -0.1)\">\r\n       <use xlink:href=\"#DejaVuSans-36\"/>\r\n      </g>\r\n     </g>\r\n    </g>\r\n    <g id=\"xtick_19\">\r\n     <g id=\"line2d_33\">\r\n      <g>\r\n       <use style=\"stroke:#000000;stroke-width:0.8;\" x=\"1138.259448\" xlink:href=\"#m6397701389\" y=\"371.113043\"/>\r\n      </g>\r\n     </g>\r\n     <g id=\"text_33\">\r\n      <!-- 8 -->\r\n      <g transform=\"translate(1135.078198 385.711481)scale(0.1 -0.1)\">\r\n       <use xlink:href=\"#DejaVuSans-38\"/>\r\n      </g>\r\n     </g>\r\n    </g>\r\n    <g id=\"xtick_20\">\r\n     <g id=\"line2d_34\">\r\n      <g>\r\n       <use style=\"stroke:#000000;stroke-width:0.8;\" x=\"1194.24607\" xlink:href=\"#m6397701389\" y=\"371.113043\"/>\r\n      </g>\r\n     </g>\r\n     <g id=\"text_34\">\r\n      <!-- 10 -->\r\n      <g transform=\"translate(1187.88357 385.711481)scale(0.1 -0.1)\">\r\n       <use xlink:href=\"#DejaVuSans-31\"/>\r\n       <use x=\"63.623047\" xlink:href=\"#DejaVuSans-30\"/>\r\n      </g>\r\n     </g>\r\n    </g>\r\n    <g id=\"xtick_21\">\r\n     <g id=\"line2d_35\">\r\n      <g>\r\n       <use style=\"stroke:#000000;stroke-width:0.8;\" x=\"1250.232692\" xlink:href=\"#m6397701389\" y=\"371.113043\"/>\r\n      </g>\r\n     </g>\r\n     <g id=\"text_35\">\r\n      <!-- 12 -->\r\n      <g transform=\"translate(1243.870192 385.711481)scale(0.1 -0.1)\">\r\n       <use xlink:href=\"#DejaVuSans-31\"/>\r\n       <use x=\"63.623047\" xlink:href=\"#DejaVuSans-32\"/>\r\n      </g>\r\n     </g>\r\n    </g>\r\n   </g>\r\n   <g id=\"matplotlib.axis_6\">\r\n    <g id=\"ytick_15\">\r\n     <g id=\"line2d_36\">\r\n      <g>\r\n       <use style=\"stroke:#000000;stroke-width:0.8;\" x=\"900.316304\" xlink:href=\"#m917373ae4e\" y=\"21.196656\"/>\r\n      </g>\r\n     </g>\r\n     <g id=\"text_36\">\r\n      <!-- 0 -->\r\n      <g transform=\"translate(886.953804 24.995874)scale(0.1 -0.1)\">\r\n       <use xlink:href=\"#DejaVuSans-30\"/>\r\n      </g>\r\n     </g>\r\n    </g>\r\n    <g id=\"ytick_16\">\r\n     <g id=\"line2d_37\">\r\n      <g>\r\n       <use style=\"stroke:#000000;stroke-width:0.8;\" x=\"900.316304\" xlink:href=\"#m917373ae4e\" y=\"77.183278\"/>\r\n      </g>\r\n     </g>\r\n     <g id=\"text_37\">\r\n      <!-- 2 -->\r\n      <g transform=\"translate(886.953804 80.982496)scale(0.1 -0.1)\">\r\n       <use xlink:href=\"#DejaVuSans-32\"/>\r\n      </g>\r\n     </g>\r\n    </g>\r\n    <g id=\"ytick_17\">\r\n     <g id=\"line2d_38\">\r\n      <g>\r\n       <use style=\"stroke:#000000;stroke-width:0.8;\" x=\"900.316304\" xlink:href=\"#m917373ae4e\" y=\"133.1699\"/>\r\n      </g>\r\n     </g>\r\n     <g id=\"text_38\">\r\n      <!-- 4 -->\r\n      <g transform=\"translate(886.953804 136.969118)scale(0.1 -0.1)\">\r\n       <use xlink:href=\"#DejaVuSans-34\"/>\r\n      </g>\r\n     </g>\r\n    </g>\r\n    <g id=\"ytick_18\">\r\n     <g id=\"line2d_39\">\r\n      <g>\r\n       <use style=\"stroke:#000000;stroke-width:0.8;\" x=\"900.316304\" xlink:href=\"#m917373ae4e\" y=\"189.156522\"/>\r\n      </g>\r\n     </g>\r\n     <g id=\"text_39\">\r\n      <!-- 6 -->\r\n      <g transform=\"translate(886.953804 192.95574)scale(0.1 -0.1)\">\r\n       <use xlink:href=\"#DejaVuSans-36\"/>\r\n      </g>\r\n     </g>\r\n    </g>\r\n    <g id=\"ytick_19\">\r\n     <g id=\"line2d_40\">\r\n      <g>\r\n       <use style=\"stroke:#000000;stroke-width:0.8;\" x=\"900.316304\" xlink:href=\"#m917373ae4e\" y=\"245.143144\"/>\r\n      </g>\r\n     </g>\r\n     <g id=\"text_40\">\r\n      <!-- 8 -->\r\n      <g transform=\"translate(886.953804 248.942363)scale(0.1 -0.1)\">\r\n       <use xlink:href=\"#DejaVuSans-38\"/>\r\n      </g>\r\n     </g>\r\n    </g>\r\n    <g id=\"ytick_20\">\r\n     <g id=\"line2d_41\">\r\n      <g>\r\n       <use style=\"stroke:#000000;stroke-width:0.8;\" x=\"900.316304\" xlink:href=\"#m917373ae4e\" y=\"301.129766\"/>\r\n      </g>\r\n     </g>\r\n     <g id=\"text_41\">\r\n      <!-- 10 -->\r\n      <g transform=\"translate(880.591304 304.928985)scale(0.1 -0.1)\">\r\n       <use xlink:href=\"#DejaVuSans-31\"/>\r\n       <use x=\"63.623047\" xlink:href=\"#DejaVuSans-30\"/>\r\n      </g>\r\n     </g>\r\n    </g>\r\n    <g id=\"ytick_21\">\r\n     <g id=\"line2d_42\">\r\n      <g>\r\n       <use style=\"stroke:#000000;stroke-width:0.8;\" x=\"900.316304\" xlink:href=\"#m917373ae4e\" y=\"357.116388\"/>\r\n      </g>\r\n     </g>\r\n     <g id=\"text_42\">\r\n      <!-- 12 -->\r\n      <g transform=\"translate(880.591304 360.915607)scale(0.1 -0.1)\">\r\n       <use xlink:href=\"#DejaVuSans-31\"/>\r\n       <use x=\"63.623047\" xlink:href=\"#DejaVuSans-32\"/>\r\n      </g>\r\n     </g>\r\n    </g>\r\n   </g>\r\n   <g id=\"patch_13\">\r\n    <path d=\"M 900.316304 371.113043 \r\nL 900.316304 7.2 \r\n\" style=\"fill:none;stroke:#000000;stroke-linecap:square;stroke-linejoin:miter;stroke-width:0.8;\"/>\r\n   </g>\r\n   <g id=\"patch_14\">\r\n    <path d=\"M 1264.229348 371.113043 \r\nL 1264.229348 7.2 \r\n\" style=\"fill:none;stroke:#000000;stroke-linecap:square;stroke-linejoin:miter;stroke-width:0.8;\"/>\r\n   </g>\r\n   <g id=\"patch_15\">\r\n    <path d=\"M 900.316304 371.113043 \r\nL 1264.229348 371.113043 \r\n\" style=\"fill:none;stroke:#000000;stroke-linecap:square;stroke-linejoin:miter;stroke-width:0.8;\"/>\r\n   </g>\r\n   <g id=\"patch_16\">\r\n    <path d=\"M 900.316304 7.2 \r\nL 1264.229348 7.2 \r\n\" style=\"fill:none;stroke:#000000;stroke-linecap:square;stroke-linejoin:miter;stroke-width:0.8;\"/>\r\n   </g>\r\n  </g>\r\n  <g id=\"axes_4\">\r\n   <g id=\"patch_17\">\r\n    <path d=\"M 1337.011957 371.113043 \r\nL 1700.925 371.113043 \r\nL 1700.925 7.2 \r\nL 1337.011957 7.2 \r\nz\r\n\" style=\"fill:#ffffff;\"/>\r\n   </g>\r\n   <g clip-path=\"url(#p32fa2b49f2)\">\r\n    <image height=\"364.5\" id=\"image475ec7ab6f\" transform=\"scale(1 -1)translate(0 -364.5)\" width=\"364.5\" x=\"1337.011957\" xlink:href=\"data:image/png;base64,\r\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\" y=\"-6.613043\"/>\r\n   </g>\r\n   <g id=\"matplotlib.axis_7\">\r\n    <g id=\"xtick_22\">\r\n     <g id=\"line2d_43\">\r\n      <g>\r\n       <use style=\"stroke:#000000;stroke-width:0.8;\" x=\"1351.008612\" xlink:href=\"#m6397701389\" y=\"371.113043\"/>\r\n      </g>\r\n     </g>\r\n     <g id=\"text_43\">\r\n      <!-- 0 -->\r\n      <g transform=\"translate(1347.827362 385.711481)scale(0.1 -0.1)\">\r\n       <use xlink:href=\"#DejaVuSans-30\"/>\r\n      </g>\r\n     </g>\r\n    </g>\r\n    <g id=\"xtick_23\">\r\n     <g id=\"line2d_44\">\r\n      <g>\r\n       <use style=\"stroke:#000000;stroke-width:0.8;\" x=\"1406.995234\" xlink:href=\"#m6397701389\" y=\"371.113043\"/>\r\n      </g>\r\n     </g>\r\n     <g id=\"text_44\">\r\n      <!-- 2 -->\r\n      <g transform=\"translate(1403.813984 385.711481)scale(0.1 -0.1)\">\r\n       <use xlink:href=\"#DejaVuSans-32\"/>\r\n      </g>\r\n     </g>\r\n    </g>\r\n    <g id=\"xtick_24\">\r\n     <g id=\"line2d_45\">\r\n      <g>\r\n       <use style=\"stroke:#000000;stroke-width:0.8;\" x=\"1462.981856\" xlink:href=\"#m6397701389\" y=\"371.113043\"/>\r\n      </g>\r\n     </g>\r\n     <g id=\"text_45\">\r\n      <!-- 4 -->\r\n      <g transform=\"translate(1459.800606 385.711481)scale(0.1 -0.1)\">\r\n       <use xlink:href=\"#DejaVuSans-34\"/>\r\n      </g>\r\n     </g>\r\n    </g>\r\n    <g id=\"xtick_25\">\r\n     <g id=\"line2d_46\">\r\n      <g>\r\n       <use style=\"stroke:#000000;stroke-width:0.8;\" x=\"1518.968478\" xlink:href=\"#m6397701389\" y=\"371.113043\"/>\r\n      </g>\r\n     </g>\r\n     <g id=\"text_46\">\r\n      <!-- 6 -->\r\n      <g transform=\"translate(1515.787228 385.711481)scale(0.1 -0.1)\">\r\n       <use xlink:href=\"#DejaVuSans-36\"/>\r\n      </g>\r\n     </g>\r\n    </g>\r\n    <g id=\"xtick_26\">\r\n     <g id=\"line2d_47\">\r\n      <g>\r\n       <use style=\"stroke:#000000;stroke-width:0.8;\" x=\"1574.9551\" xlink:href=\"#m6397701389\" y=\"371.113043\"/>\r\n      </g>\r\n     </g>\r\n     <g id=\"text_47\">\r\n      <!-- 8 -->\r\n      <g transform=\"translate(1571.77385 385.711481)scale(0.1 -0.1)\">\r\n       <use xlink:href=\"#DejaVuSans-38\"/>\r\n      </g>\r\n     </g>\r\n    </g>\r\n    <g id=\"xtick_27\">\r\n     <g id=\"line2d_48\">\r\n      <g>\r\n       <use style=\"stroke:#000000;stroke-width:0.8;\" x=\"1630.941722\" xlink:href=\"#m6397701389\" y=\"371.113043\"/>\r\n      </g>\r\n     </g>\r\n     <g id=\"text_48\">\r\n      <!-- 10 -->\r\n      <g transform=\"translate(1624.579222 385.711481)scale(0.1 -0.1)\">\r\n       <use xlink:href=\"#DejaVuSans-31\"/>\r\n       <use x=\"63.623047\" xlink:href=\"#DejaVuSans-30\"/>\r\n      </g>\r\n     </g>\r\n    </g>\r\n    <g id=\"xtick_28\">\r\n     <g id=\"line2d_49\">\r\n      <g>\r\n       <use style=\"stroke:#000000;stroke-width:0.8;\" x=\"1686.928344\" xlink:href=\"#m6397701389\" y=\"371.113043\"/>\r\n      </g>\r\n     </g>\r\n     <g id=\"text_49\">\r\n      <!-- 12 -->\r\n      <g transform=\"translate(1680.565844 385.711481)scale(0.1 -0.1)\">\r\n       <use xlink:href=\"#DejaVuSans-31\"/>\r\n       <use x=\"63.623047\" xlink:href=\"#DejaVuSans-32\"/>\r\n      </g>\r\n     </g>\r\n    </g>\r\n   </g>\r\n   <g id=\"matplotlib.axis_8\">\r\n    <g id=\"ytick_22\">\r\n     <g id=\"line2d_50\">\r\n      <g>\r\n       <use style=\"stroke:#000000;stroke-width:0.8;\" x=\"1337.011957\" xlink:href=\"#m917373ae4e\" y=\"21.196656\"/>\r\n      </g>\r\n     </g>\r\n     <g id=\"text_50\">\r\n      <!-- 0 -->\r\n      <g transform=\"translate(1323.649457 24.995874)scale(0.1 -0.1)\">\r\n       <use xlink:href=\"#DejaVuSans-30\"/>\r\n      </g>\r\n     </g>\r\n    </g>\r\n    <g id=\"ytick_23\">\r\n     <g id=\"line2d_51\">\r\n      <g>\r\n       <use style=\"stroke:#000000;stroke-width:0.8;\" x=\"1337.011957\" xlink:href=\"#m917373ae4e\" y=\"77.183278\"/>\r\n      </g>\r\n     </g>\r\n     <g id=\"text_51\">\r\n      <!-- 2 -->\r\n      <g transform=\"translate(1323.649457 80.982496)scale(0.1 -0.1)\">\r\n       <use xlink:href=\"#DejaVuSans-32\"/>\r\n      </g>\r\n     </g>\r\n    </g>\r\n    <g id=\"ytick_24\">\r\n     <g id=\"line2d_52\">\r\n      <g>\r\n       <use style=\"stroke:#000000;stroke-width:0.8;\" x=\"1337.011957\" xlink:href=\"#m917373ae4e\" y=\"133.1699\"/>\r\n      </g>\r\n     </g>\r\n     <g id=\"text_52\">\r\n      <!-- 4 -->\r\n      <g transform=\"translate(1323.649457 136.969118)scale(0.1 -0.1)\">\r\n       <use xlink:href=\"#DejaVuSans-34\"/>\r\n      </g>\r\n     </g>\r\n    </g>\r\n    <g id=\"ytick_25\">\r\n     <g id=\"line2d_53\">\r\n      <g>\r\n       <use style=\"stroke:#000000;stroke-width:0.8;\" x=\"1337.011957\" xlink:href=\"#m917373ae4e\" y=\"189.156522\"/>\r\n      </g>\r\n     </g>\r\n     <g id=\"text_53\">\r\n      <!-- 6 -->\r\n      <g transform=\"translate(1323.649457 192.95574)scale(0.1 -0.1)\">\r\n       <use xlink:href=\"#DejaVuSans-36\"/>\r\n      </g>\r\n     </g>\r\n    </g>\r\n    <g id=\"ytick_26\">\r\n     <g id=\"line2d_54\">\r\n      <g>\r\n       <use style=\"stroke:#000000;stroke-width:0.8;\" x=\"1337.011957\" xlink:href=\"#m917373ae4e\" y=\"245.143144\"/>\r\n      </g>\r\n     </g>\r\n     <g id=\"text_54\">\r\n      <!-- 8 -->\r\n      <g transform=\"translate(1323.649457 248.942363)scale(0.1 -0.1)\">\r\n       <use xlink:href=\"#DejaVuSans-38\"/>\r\n      </g>\r\n     </g>\r\n    </g>\r\n    <g id=\"ytick_27\">\r\n     <g id=\"line2d_55\">\r\n      <g>\r\n       <use style=\"stroke:#000000;stroke-width:0.8;\" x=\"1337.011957\" xlink:href=\"#m917373ae4e\" y=\"301.129766\"/>\r\n      </g>\r\n     </g>\r\n     <g id=\"text_55\">\r\n      <!-- 10 -->\r\n      <g transform=\"translate(1317.286957 304.928985)scale(0.1 -0.1)\">\r\n       <use xlink:href=\"#DejaVuSans-31\"/>\r\n       <use x=\"63.623047\" xlink:href=\"#DejaVuSans-30\"/>\r\n      </g>\r\n     </g>\r\n    </g>\r\n    <g id=\"ytick_28\">\r\n     <g id=\"line2d_56\">\r\n      <g>\r\n       <use style=\"stroke:#000000;stroke-width:0.8;\" x=\"1337.011957\" xlink:href=\"#m917373ae4e\" y=\"357.116388\"/>\r\n      </g>\r\n     </g>\r\n     <g id=\"text_56\">\r\n      <!-- 12 -->\r\n      <g transform=\"translate(1317.286957 360.915607)scale(0.1 -0.1)\">\r\n       <use xlink:href=\"#DejaVuSans-31\"/>\r\n       <use x=\"63.623047\" xlink:href=\"#DejaVuSans-32\"/>\r\n      </g>\r\n     </g>\r\n    </g>\r\n   </g>\r\n   <g id=\"patch_18\">\r\n    <path d=\"M 1337.011957 371.113043 \r\nL 1337.011957 7.2 \r\n\" style=\"fill:none;stroke:#000000;stroke-linecap:square;stroke-linejoin:miter;stroke-width:0.8;\"/>\r\n   </g>\r\n   <g id=\"patch_19\">\r\n    <path d=\"M 1700.925 371.113043 \r\nL 1700.925 7.2 \r\n\" style=\"fill:none;stroke:#000000;stroke-linecap:square;stroke-linejoin:miter;stroke-width:0.8;\"/>\r\n   </g>\r\n   <g id=\"patch_20\">\r\n    <path d=\"M 1337.011957 371.113043 \r\nL 1700.925 371.113043 \r\n\" style=\"fill:none;stroke:#000000;stroke-linecap:square;stroke-linejoin:miter;stroke-width:0.8;\"/>\r\n   </g>\r\n   <g id=\"patch_21\">\r\n    <path d=\"M 1337.011957 7.2 \r\nL 1700.925 7.2 \r\n\" style=\"fill:none;stroke:#000000;stroke-linecap:square;stroke-linejoin:miter;stroke-width:0.8;\"/>\r\n   </g>\r\n  </g>\r\n </g>\r\n <defs>\r\n  <clipPath id=\"p3cb81f1758\">\r\n   <rect height=\"363.913043\" width=\"363.913043\" x=\"26.925\" y=\"7.2\"/>\r\n  </clipPath>\r\n  <clipPath id=\"p49784a0609\">\r\n   <rect height=\"363.913043\" width=\"363.913043\" x=\"463.620652\" y=\"7.2\"/>\r\n  </clipPath>\r\n  <clipPath id=\"p8d0d87eafa\">\r\n   <rect height=\"363.913043\" width=\"363.913043\" x=\"900.316304\" y=\"7.2\"/>\r\n  </clipPath>\r\n  <clipPath id=\"p32fa2b49f2\">\r\n   <rect height=\"363.913043\" width=\"363.913043\" x=\"1337.011957\" y=\"7.2\"/>\r\n  </clipPath>\r\n </defs>\r\n</svg>\r\n",
      "image/png": "[encoded data removed]"
     },
     "metadata": {
      "needs_background": "light"
     }
    }
   ],
   "metadata": {}
  },
  {
   "cell_type": "code",
   "execution_count": 62,
   "source": [
    "plt.figure(figsize=(18, 16), dpi=80)\r\n",
    "plt.imshow(data.squeeze(0).permute(1, 2, 0), cmap='gray')"
   ],
   "outputs": [
    {
     "output_type": "execute_result",
     "data": {
      "text/plain": [
       "<matplotlib.image.AxesImage at 0x20219e0fc10>"
      ]
     },
     "metadata": {},
     "execution_count": 62
    },
    {
     "output_type": "display_data",
     "data": {
      "text/plain": [
       "<Figure size 1440x1280 with 1 Axes>"
      ],
      "image/svg+xml": "<?xml version=\"1.0\" encoding=\"utf-8\" standalone=\"no\"?>\r\n<!DOCTYPE svg PUBLIC \"-//W3C//DTD SVG 1.1//EN\"\r\n  \"http://www.w3.org/Graphics/SVG/1.1/DTD/svg11.dtd\">\r\n<svg height=\"900.838125pt\" version=\"1.1\" viewBox=\"0 0 903.885 900.838125\" width=\"903.885pt\" xmlns=\"http://www.w3.org/2000/svg\" xmlns:xlink=\"http://www.w3.org/1999/xlink\">\r\n <metadata>\r\n  <rdf:RDF xmlns:cc=\"http://creativecommons.org/ns#\" xmlns:dc=\"http://purl.org/dc/elements/1.1/\" xmlns:rdf=\"http://www.w3.org/1999/02/22-rdf-syntax-ns#\">\r\n   <cc:Work>\r\n    <dc:type rdf:resource=\"http://purl.org/dc/dcmitype/StillImage\"/>\r\n    <dc:date>2021-08-25T15:24:46.072333</dc:date>\r\n    <dc:format>image/svg+xml</dc:format>\r\n    <dc:creator>\r\n     <cc:Agent>\r\n      <dc:title>Matplotlib v3.4.3, https://matplotlib.org/</dc:title>\r\n     </cc:Agent>\r\n    </dc:creator>\r\n   </cc:Work>\r\n  </rdf:RDF>\r\n </metadata>\r\n <defs>\r\n  <style type=\"text/css\">*{stroke-linecap:butt;stroke-linejoin:round;}</style>\r\n </defs>\r\n <g id=\"figure_1\">\r\n  <g id=\"patch_1\">\r\n   <path d=\"M -0 900.838125 \r\nL 903.885 900.838125 \r\nL 903.885 0 \r\nL -0 0 \r\nz\r\n\" style=\"fill:none;\"/>\r\n  </g>\r\n  <g id=\"axes_1\">\r\n   <g id=\"patch_2\">\r\n    <path d=\"M 26.925 876.96 \r\nL 896.685 876.96 \r\nL 896.685 7.2 \r\nL 26.925 7.2 \r\nz\r\n\" style=\"fill:#ffffff;\"/>\r\n   </g>\r\n   <g clip-path=\"url(#pd509c6df5f)\">\r\n    <image height=\"870.3\" id=\"image48e052bac3\" transform=\"scale(1 -1)translate(0 -870.3)\" width=\"870.3\" x=\"26.925\" xlink:href=\"data:image/png;base64,\r\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\" y=\"-6.66\"/>\r\n   </g>\r\n   <g id=\"matplotlib.axis_1\">\r\n    <g id=\"xtick_1\">\r\n     <g id=\"line2d_1\">\r\n      <defs>\r\n       <path d=\"M 0 0 \r\nL 0 3.5 \r\n\" id=\"m7d8dc5d1b3\" style=\"stroke:#000000;stroke-width:0.8;\"/>\r\n      </defs>\r\n      <g>\r\n       <use style=\"stroke:#000000;stroke-width:0.8;\" x=\"42.456429\" xlink:href=\"#m7d8dc5d1b3\" y=\"876.96\"/>\r\n      </g>\r\n     </g>\r\n     <g id=\"text_1\">\r\n      <!-- 0 -->\r\n      <g transform=\"translate(39.275179 891.558437)scale(0.1 -0.1)\">\r\n       <defs>\r\n        <path d=\"M 2034 4250 \r\nQ 1547 4250 1301 3770 \r\nQ 1056 3291 1056 2328 \r\nQ 1056 1369 1301 889 \r\nQ 1547 409 2034 409 \r\nQ 2525 409 2770 889 \r\nQ 3016 1369 3016 2328 \r\nQ 3016 3291 2770 3770 \r\nQ 2525 4250 2034 4250 \r\nz\r\nM 2034 4750 \r\nQ 2819 4750 3233 4129 \r\nQ 3647 3509 3647 2328 \r\nQ 3647 1150 3233 529 \r\nQ 2819 -91 2034 -91 \r\nQ 1250 -91 836 529 \r\nQ 422 1150 422 2328 \r\nQ 422 3509 836 4129 \r\nQ 1250 4750 2034 4750 \r\nz\r\n\" id=\"DejaVuSans-30\" transform=\"scale(0.015625)\"/>\r\n       </defs>\r\n       <use xlink:href=\"#DejaVuSans-30\"/>\r\n      </g>\r\n     </g>\r\n    </g>\r\n    <g id=\"xtick_2\">\r\n     <g id=\"line2d_2\">\r\n      <g>\r\n       <use style=\"stroke:#000000;stroke-width:0.8;\" x=\"197.770714\" xlink:href=\"#m7d8dc5d1b3\" y=\"876.96\"/>\r\n      </g>\r\n     </g>\r\n     <g id=\"text_2\">\r\n      <!-- 5 -->\r\n      <g transform=\"translate(194.589464 891.558437)scale(0.1 -0.1)\">\r\n       <defs>\r\n        <path d=\"M 691 4666 \r\nL 3169 4666 \r\nL 3169 4134 \r\nL 1269 4134 \r\nL 1269 2991 \r\nQ 1406 3038 1543 3061 \r\nQ 1681 3084 1819 3084 \r\nQ 2600 3084 3056 2656 \r\nQ 3513 2228 3513 1497 \r\nQ 3513 744 3044 326 \r\nQ 2575 -91 1722 -91 \r\nQ 1428 -91 1123 -41 \r\nQ 819 9 494 109 \r\nL 494 744 \r\nQ 775 591 1075 516 \r\nQ 1375 441 1709 441 \r\nQ 2250 441 2565 725 \r\nQ 2881 1009 2881 1497 \r\nQ 2881 1984 2565 2268 \r\nQ 2250 2553 1709 2553 \r\nQ 1456 2553 1204 2497 \r\nQ 953 2441 691 2322 \r\nL 691 4666 \r\nz\r\n\" id=\"DejaVuSans-35\" transform=\"scale(0.015625)\"/>\r\n       </defs>\r\n       <use xlink:href=\"#DejaVuSans-35\"/>\r\n      </g>\r\n     </g>\r\n    </g>\r\n    <g id=\"xtick_3\">\r\n     <g id=\"line2d_3\">\r\n      <g>\r\n       <use style=\"stroke:#000000;stroke-width:0.8;\" x=\"353.085\" xlink:href=\"#m7d8dc5d1b3\" y=\"876.96\"/>\r\n      </g>\r\n     </g>\r\n     <g id=\"text_3\">\r\n      <!-- 10 -->\r\n      <g transform=\"translate(346.7225 891.558437)scale(0.1 -0.1)\">\r\n       <defs>\r\n        <path d=\"M 794 531 \r\nL 1825 531 \r\nL 1825 4091 \r\nL 703 3866 \r\nL 703 4441 \r\nL 1819 4666 \r\nL 2450 4666 \r\nL 2450 531 \r\nL 3481 531 \r\nL 3481 0 \r\nL 794 0 \r\nL 794 531 \r\nz\r\n\" id=\"DejaVuSans-31\" transform=\"scale(0.015625)\"/>\r\n       </defs>\r\n       <use xlink:href=\"#DejaVuSans-31\"/>\r\n       <use x=\"63.623047\" xlink:href=\"#DejaVuSans-30\"/>\r\n      </g>\r\n     </g>\r\n    </g>\r\n    <g id=\"xtick_4\">\r\n     <g id=\"line2d_4\">\r\n      <g>\r\n       <use style=\"stroke:#000000;stroke-width:0.8;\" x=\"508.399286\" xlink:href=\"#m7d8dc5d1b3\" y=\"876.96\"/>\r\n      </g>\r\n     </g>\r\n     <g id=\"text_4\">\r\n      <!-- 15 -->\r\n      <g transform=\"translate(502.036786 891.558437)scale(0.1 -0.1)\">\r\n       <use xlink:href=\"#DejaVuSans-31\"/>\r\n       <use x=\"63.623047\" xlink:href=\"#DejaVuSans-35\"/>\r\n      </g>\r\n     </g>\r\n    </g>\r\n    <g id=\"xtick_5\">\r\n     <g id=\"line2d_5\">\r\n      <g>\r\n       <use style=\"stroke:#000000;stroke-width:0.8;\" x=\"663.713571\" xlink:href=\"#m7d8dc5d1b3\" y=\"876.96\"/>\r\n      </g>\r\n     </g>\r\n     <g id=\"text_5\">\r\n      <!-- 20 -->\r\n      <g transform=\"translate(657.351071 891.558437)scale(0.1 -0.1)\">\r\n       <defs>\r\n        <path d=\"M 1228 531 \r\nL 3431 531 \r\nL 3431 0 \r\nL 469 0 \r\nL 469 531 \r\nQ 828 903 1448 1529 \r\nQ 2069 2156 2228 2338 \r\nQ 2531 2678 2651 2914 \r\nQ 2772 3150 2772 3378 \r\nQ 2772 3750 2511 3984 \r\nQ 2250 4219 1831 4219 \r\nQ 1534 4219 1204 4116 \r\nQ 875 4013 500 3803 \r\nL 500 4441 \r\nQ 881 4594 1212 4672 \r\nQ 1544 4750 1819 4750 \r\nQ 2544 4750 2975 4387 \r\nQ 3406 4025 3406 3419 \r\nQ 3406 3131 3298 2873 \r\nQ 3191 2616 2906 2266 \r\nQ 2828 2175 2409 1742 \r\nQ 1991 1309 1228 531 \r\nz\r\n\" id=\"DejaVuSans-32\" transform=\"scale(0.015625)\"/>\r\n       </defs>\r\n       <use xlink:href=\"#DejaVuSans-32\"/>\r\n       <use x=\"63.623047\" xlink:href=\"#DejaVuSans-30\"/>\r\n      </g>\r\n     </g>\r\n    </g>\r\n    <g id=\"xtick_6\">\r\n     <g id=\"line2d_6\">\r\n      <g>\r\n       <use style=\"stroke:#000000;stroke-width:0.8;\" x=\"819.027857\" xlink:href=\"#m7d8dc5d1b3\" y=\"876.96\"/>\r\n      </g>\r\n     </g>\r\n     <g id=\"text_6\">\r\n      <!-- 25 -->\r\n      <g transform=\"translate(812.665357 891.558437)scale(0.1 -0.1)\">\r\n       <use xlink:href=\"#DejaVuSans-32\"/>\r\n       <use x=\"63.623047\" xlink:href=\"#DejaVuSans-35\"/>\r\n      </g>\r\n     </g>\r\n    </g>\r\n   </g>\r\n   <g id=\"matplotlib.axis_2\">\r\n    <g id=\"ytick_1\">\r\n     <g id=\"line2d_7\">\r\n      <defs>\r\n       <path d=\"M 0 0 \r\nL -3.5 0 \r\n\" id=\"me241efc4c5\" style=\"stroke:#000000;stroke-width:0.8;\"/>\r\n      </defs>\r\n      <g>\r\n       <use style=\"stroke:#000000;stroke-width:0.8;\" x=\"26.925\" xlink:href=\"#me241efc4c5\" y=\"22.731429\"/>\r\n      </g>\r\n     </g>\r\n     <g id=\"text_7\">\r\n      <!-- 0 -->\r\n      <g transform=\"translate(13.5625 26.530647)scale(0.1 -0.1)\">\r\n       <use xlink:href=\"#DejaVuSans-30\"/>\r\n      </g>\r\n     </g>\r\n    </g>\r\n    <g id=\"ytick_2\">\r\n     <g id=\"line2d_8\">\r\n      <g>\r\n       <use style=\"stroke:#000000;stroke-width:0.8;\" x=\"26.925\" xlink:href=\"#me241efc4c5\" y=\"178.045714\"/>\r\n      </g>\r\n     </g>\r\n     <g id=\"text_8\">\r\n      <!-- 5 -->\r\n      <g transform=\"translate(13.5625 181.844933)scale(0.1 -0.1)\">\r\n       <use xlink:href=\"#DejaVuSans-35\"/>\r\n      </g>\r\n     </g>\r\n    </g>\r\n    <g id=\"ytick_3\">\r\n     <g id=\"line2d_9\">\r\n      <g>\r\n       <use style=\"stroke:#000000;stroke-width:0.8;\" x=\"26.925\" xlink:href=\"#me241efc4c5\" y=\"333.36\"/>\r\n      </g>\r\n     </g>\r\n     <g id=\"text_9\">\r\n      <!-- 10 -->\r\n      <g transform=\"translate(7.2 337.159219)scale(0.1 -0.1)\">\r\n       <use xlink:href=\"#DejaVuSans-31\"/>\r\n       <use x=\"63.623047\" xlink:href=\"#DejaVuSans-30\"/>\r\n      </g>\r\n     </g>\r\n    </g>\r\n    <g id=\"ytick_4\">\r\n     <g id=\"line2d_10\">\r\n      <g>\r\n       <use style=\"stroke:#000000;stroke-width:0.8;\" x=\"26.925\" xlink:href=\"#me241efc4c5\" y=\"488.674286\"/>\r\n      </g>\r\n     </g>\r\n     <g id=\"text_10\">\r\n      <!-- 15 -->\r\n      <g transform=\"translate(7.2 492.473504)scale(0.1 -0.1)\">\r\n       <use xlink:href=\"#DejaVuSans-31\"/>\r\n       <use x=\"63.623047\" xlink:href=\"#DejaVuSans-35\"/>\r\n      </g>\r\n     </g>\r\n    </g>\r\n    <g id=\"ytick_5\">\r\n     <g id=\"line2d_11\">\r\n      <g>\r\n       <use style=\"stroke:#000000;stroke-width:0.8;\" x=\"26.925\" xlink:href=\"#me241efc4c5\" y=\"643.988571\"/>\r\n      </g>\r\n     </g>\r\n     <g id=\"text_11\">\r\n      <!-- 20 -->\r\n      <g transform=\"translate(7.2 647.78779)scale(0.1 -0.1)\">\r\n       <use xlink:href=\"#DejaVuSans-32\"/>\r\n       <use x=\"63.623047\" xlink:href=\"#DejaVuSans-30\"/>\r\n      </g>\r\n     </g>\r\n    </g>\r\n    <g id=\"ytick_6\">\r\n     <g id=\"line2d_12\">\r\n      <g>\r\n       <use style=\"stroke:#000000;stroke-width:0.8;\" x=\"26.925\" xlink:href=\"#me241efc4c5\" y=\"799.302857\"/>\r\n      </g>\r\n     </g>\r\n     <g id=\"text_12\">\r\n      <!-- 25 -->\r\n      <g transform=\"translate(7.2 803.102076)scale(0.1 -0.1)\">\r\n       <use xlink:href=\"#DejaVuSans-32\"/>\r\n       <use x=\"63.623047\" xlink:href=\"#DejaVuSans-35\"/>\r\n      </g>\r\n     </g>\r\n    </g>\r\n   </g>\r\n   <g id=\"patch_3\">\r\n    <path d=\"M 26.925 876.96 \r\nL 26.925 7.2 \r\n\" style=\"fill:none;stroke:#000000;stroke-linecap:square;stroke-linejoin:miter;stroke-width:0.8;\"/>\r\n   </g>\r\n   <g id=\"patch_4\">\r\n    <path d=\"M 896.685 876.96 \r\nL 896.685 7.2 \r\n\" style=\"fill:none;stroke:#000000;stroke-linecap:square;stroke-linejoin:miter;stroke-width:0.8;\"/>\r\n   </g>\r\n   <g id=\"patch_5\">\r\n    <path d=\"M 26.925 876.96 \r\nL 896.685 876.96 \r\n\" style=\"fill:none;stroke:#000000;stroke-linecap:square;stroke-linejoin:miter;stroke-width:0.8;\"/>\r\n   </g>\r\n   <g id=\"patch_6\">\r\n    <path d=\"M 26.925 7.2 \r\nL 896.685 7.2 \r\n\" style=\"fill:none;stroke:#000000;stroke-linecap:square;stroke-linejoin:miter;stroke-width:0.8;\"/>\r\n   </g>\r\n  </g>\r\n </g>\r\n <defs>\r\n  <clipPath id=\"pd509c6df5f\">\r\n   <rect height=\"869.76\" width=\"869.76\" x=\"26.925\" y=\"7.2\"/>\r\n  </clipPath>\r\n </defs>\r\n</svg>\r\n",
      "image/png": "[encoded data removed]"
     },
     "metadata": {
      "needs_background": "light"
     }
    }
   ],
   "metadata": {}
  },
  {
   "cell_type": "code",
   "execution_count": 54,
   "source": [
    "act.size(0) // n_cols"
   ],
   "outputs": [
    {
     "output_type": "execute_result",
     "data": {
      "text/plain": [
       "2"
      ]
     },
     "metadata": {},
     "execution_count": 54
    }
   ],
   "metadata": {}
  },
  {
   "cell_type": "code",
   "execution_count": 59,
   "source": [
    "model(data).argmax()"
   ],
   "outputs": [
    {
     "output_type": "execute_result",
     "data": {
      "text/plain": [
       "tensor(9)"
      ]
     },
     "metadata": {},
     "execution_count": 59
    }
   ],
   "metadata": {}
  },
  {
   "cell_type": "code",
   "execution_count": 77,
   "source": [
    "act[0].shape"
   ],
   "outputs": [
    {
     "output_type": "execute_result",
     "data": {
      "text/plain": [
       "torch.Size([13, 13])"
      ]
     },
     "metadata": {},
     "execution_count": 77
    }
   ],
   "metadata": {}
  },
  {
   "cell_type": "code",
   "execution_count": 9,
   "source": [
    "import numpy as np\r\n",
    "import matplotlib.pyplot as plt\r\n",
    "from torchvision import utils\r\n",
    "\r\n",
    "def visTensor(tensor, ch=0, allkernels=False, nrow=8, padding=1): \r\n",
    "    n,c,w,h = tensor.shape\r\n",
    "\r\n",
    "    if allkernels: tensor = tensor.view(n*c, -1, w, h)\r\n",
    "    elif c != 3: tensor = tensor[:,ch,:,:].unsqueeze(dim=1)\r\n",
    "\r\n",
    "    rows = np.min((tensor.shape[0] // nrow + 1, 64))    \r\n",
    "    grid = utils.make_grid(tensor, nrow=nrow, normalize=True, padding=padding)\r\n",
    "    plt.figure( figsize=(nrow,rows) )\r\n",
    "    plt.imshow(grid.numpy().transpose((1, 2, 0)))"
   ],
   "outputs": [],
   "metadata": {}
  },
  {
   "cell_type": "code",
   "execution_count": 27,
   "source": [
    "filters = model.cnn[2].weight.data.detach()"
   ],
   "outputs": [],
   "metadata": {}
  },
  {
   "cell_type": "code",
   "execution_count": 28,
   "source": [
    "visTensor(filters)"
   ],
   "outputs": [
    {
     "output_type": "display_data",
     "data": {
      "text/plain": [
       "<Figure size 576x360 with 1 Axes>"
      ],
      "image/png": "[encoded data removed]"
     },
     "metadata": {
      "needs_background": "light"
     }
    }
   ],
   "metadata": {}
  },
  {
   "cell_type": "code",
   "execution_count": 15,
   "source": [
    "def accuracy(model, test_dl):\r\n",
    "    # return (preds == yb).float().mean()\r\n",
    "    tot = 0\r\n",
    "    correct = 0\r\n",
    "    for x, y in test_dl:\r\n",
    "        tot += y.shape[0]\r\n",
    "        y_pred = model(x)\r\n",
    "        preds = torch.argmax(y_pred, dim=1)\r\n",
    "        correct += (preds == y).float().sum()\r\n",
    "         \r\n",
    "    print(f\"accuracy: {correct / tot}\")"
   ],
   "outputs": [],
   "metadata": {}
  },
  {
   "cell_type": "code",
   "execution_count": 16,
   "source": [
    "accuracy(model, test_dl)"
   ],
   "outputs": [
    {
     "output_type": "stream",
     "name": "stdout",
     "text": [
      "accuracy: 0.9765999913215637\n"
     ]
    }
   ],
   "metadata": {}
  },
  {
   "cell_type": "code",
   "execution_count": 18,
   "source": [
    "test_losses = []\r\n",
    "\r\n",
    "def test():\r\n",
    "  model.eval()\r\n",
    "  test_loss = 0\r\n",
    "  correct = 0\r\n",
    "  with torch.no_grad():\r\n",
    "    for data, target in test_dl:\r\n",
    "      output = model(data)\r\n",
    "      test_loss += F.nll_loss(output, target, size_average=False).item()\r\n",
    "      pred = output.data.max(1, keepdim=True)[1]\r\n",
    "      correct += pred.eq(target.data.view_as(pred)).sum()\r\n",
    "  test_loss /= len(test_dl.dataset)\r\n",
    "  test_losses.append(test_loss)\r\n",
    "  print('\\nTest set: Avg. loss: {:.4f}, Accuracy: {}/{} ({:.0f}%)\\n'.format(\r\n",
    "    test_loss, correct, len(test_dl.dataset),\r\n",
    "    100. * correct / len(test_dl.dataset)))"
   ],
   "outputs": [],
   "metadata": {}
  },
  {
   "cell_type": "code",
   "execution_count": 19,
   "source": [
    "test()"
   ],
   "outputs": [
    {
     "output_type": "stream",
     "name": "stderr",
     "text": [
      "C:\\Users\\Jest\\AppData\\Local\\Programs\\Python\\Python39\\lib\\site-packages\\torch\\nn\\_reduction.py:42: UserWarning: size_average and reduce args will be deprecated, please use reduction='sum' instead.\n",
      "  warnings.warn(warning.format(ret))\n"
     ]
    },
    {
     "output_type": "stream",
     "name": "stdout",
     "text": [
      "\n",
      "Test set: Avg. loss: 0.0317, Accuracy: 9897/10000 (99%)\n",
      "\n"
     ]
    }
   ],
   "metadata": {}
  }
 ],
 "metadata": {
  "kernelspec": {
   "name": "python3",
   "display_name": "Python 3.9.6 64-bit"
  },
  "language_info": {
   "codemirror_mode": {
    "name": "ipython",
    "version": 3
   },
   "file_extension": ".py",
   "mimetype": "text/x-python",
   "name": "python",
   "nbconvert_exporter": "python",
   "pygments_lexer": "ipython3",
   "version": "3.9.6"
  },
  "interpreter": {
   "hash": "cd99aad22f197381139b2f64e71e44250f2dc505b51201b4480ec0cce194c1b7"
  }
 },
 "nbformat": 4,
 "nbformat_minor": 4
}